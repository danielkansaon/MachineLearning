{
 "cells": [
  {
   "cell_type": "markdown",
   "metadata": {},
   "source": [
    "<h1>Trabalho Prático 1 - Daniel Pimentel Kansaon</h1>\n"
   ]
  },
  {
   "cell_type": "markdown",
   "metadata": {},
   "source": [
    "O trabalho consiste na aplicação de algoritmos supervisionados comparando ao todo 6 métodos:\n",
    "\n",
    "- **Naive Bayes**: Apenas um experimento para servir de baseline.\n",
    "- **Decision Tree**: Variar a altura máxima da árvore (incluindo permitir altura ilimitada) e mostrar os resultados graficamente.\n",
    "- **SVM**: Avaliar os kernels linear, sigmoid, polinomial e RBF.\n",
    "- **k-NN**: Variar o número k de vizinhos e mostrar os resultados graficamente.\n",
    "- **Random Forest**: Variar o número de árvores e mostrar os resultados graficamente.\n",
    "- **Gradient Tree Boosting**: Variar o número de itera¸c˜oes e mostrar os resultados graficamente.\n",
    "\n",
    "Os métodos serão testados em um problema de classificação binária (0 - 1) de candidatos a exoplanetas encontrados pela sonda espacial Kepler da NASA. Um exoplaneta é um planeta fora do sistema solar (i.e. que não orbita o sol). A sonda primeiro identifica sinais de possíıveis exoplanetas, chamados de Kepler Object of Interest (KOI). Porem nem todos os KOIs são de fato exoplanetas, alguns se tratam de \"Falsos Positivos\" de origens diversas. A tarefa é então classificar os KOIs entre exoplanetas\n",
    "confirmados e \"Falsos Positivos\". Cada observação corresponde a um KOI e as features são características estimadas de cada (possível) exoplaneta (tamanho, temperatura, features da estrela hospedeira, etc).\n"
   ]
  },
  {
   "cell_type": "code",
   "execution_count": 1,
   "metadata": {},
   "outputs": [],
   "source": [
    "#Adicionando as referencias que serão usadas durante o trabalho\n",
    "\n",
    "import pandas as pd\n",
    "import numpy as np\n",
    "import random\n",
    "\n",
    "import matplotlib as mpl\n",
    "import matplotlib.pyplot as plt\n",
    "from sklearn.model_selection import StratifiedKFold\n",
    "from sklearn import feature_selection\n",
    "import statistics\n",
    "\n",
    "#Metodos\n",
    "from sklearn import svm\n",
    "from sklearn import neighbors\n",
    "\n"
   ]
  },
  {
   "cell_type": "code",
   "execution_count": 2,
   "metadata": {},
   "outputs": [],
   "source": [
    "# As constantes do projeto estão adicionadas aqui.\n",
    "\n",
    "# Caminho arquivo com os dados\n",
    "FILE_PATH = \"koi_data.csv\"\n",
    "\n",
    "#Tamanho do fold que será utilizado para a etapa de Cross-Validation\n",
    "K_FOLD = 5\n",
    "\n",
    "#Coluna TARGET do arquivo CSV\n",
    "TARGET = \"koi_disposition\"\n",
    "\n",
    "#Coluna que possui o nome do KOI\n",
    "COLUMN_KOI = \"kepoi_name\""
   ]
  },
  {
   "cell_type": "markdown",
   "metadata": {},
   "source": [
    "## Tratamento nos Dados\n",
    "\n",
    "Como dito acima, cada observação realizada corresponde a um KOI e as features são características estimadas de cada (possível) exoplaneta (tamanho, temperatura, features da estrela hospedeira, etc).\n",
    "\n",
    "Assim, nesta etapa serão realizados processamentos nos dados a fim de prepará-los para a execução dos algoritmos."
   ]
  },
  {
   "cell_type": "code",
   "execution_count": 3,
   "metadata": {
    "scrolled": true
   },
   "outputs": [
    {
     "name": "stdout",
     "output_type": "stream",
     "text": [
      "Numero de linhas: 5202\n",
      "Numero de colunas: 43\n",
      "     kepoi_name koi_disposition  koi_period  koi_impact  koi_duration  \\\n",
      "0     K00752.01       CONFIRMED     9.48804       0.146       2.95750   \n",
      "1     K00752.02       CONFIRMED    54.41838       0.586       4.50700   \n",
      "2     K00754.01  FALSE POSITIVE     1.73695       1.276       2.40641   \n",
      "3     K00755.01       CONFIRMED     2.52559       0.701       1.65450   \n",
      "4     K00114.01  FALSE POSITIVE     7.36179       1.169       5.02200   \n",
      "5     K00757.01       CONFIRMED    16.06865       0.052       3.53470   \n",
      "6     K00001.01       CONFIRMED     2.47061       0.818       1.74319   \n",
      "7     K00010.01       CONFIRMED     3.52250       0.631       3.19843   \n",
      "8     K00112.02       CONFIRMED     3.70921       0.051       2.63020   \n",
      "9     K00742.01  FALSE POSITIVE    11.52145       2.483       3.63990   \n",
      "10    K00743.01  FALSE POSITIVE    19.40394       0.804      12.21550   \n",
      "11    K00744.01  FALSE POSITIVE    19.22139       1.065       4.79843   \n",
      "12    K00745.01  FALSE POSITIVE    16.46984       0.292       9.43780   \n",
      "13    K00746.01       CONFIRMED     9.27358       0.387       3.28750   \n",
      "14    K00747.01       CONFIRMED     6.02930       0.258       1.58210   \n",
      "15    K00748.01  FALSE POSITIVE     2.69637       0.044       3.61290   \n",
      "16    K00749.01       CONFIRMED     5.34955       0.092       3.02780   \n",
      "17    K00749.02       CONFIRMED     3.94105       0.226       2.59840   \n",
      "18    K00749.03       CONFIRMED     8.10905       0.025       3.59600   \n",
      "19    K00750.01       CONFIRMED    21.67699       0.896       3.45550   \n",
      "20    K00751.01       CONFIRMED     4.99678       0.710       2.17170   \n",
      "21    K00769.01       CONFIRMED     4.28096       0.424       2.87500   \n",
      "22    K00770.01  FALSE POSITIVE     1.50635       0.860       1.51550   \n",
      "23    K00771.01  FALSE POSITIVE   670.64553       0.701      53.41200   \n",
      "24    K00772.01  FALSE POSITIVE    61.25636       1.248       7.63300   \n",
      "25    K00773.01       CONFIRMED    38.37755       0.468       5.58800   \n",
      "26    K00757.02       CONFIRMED    41.19726       0.045       4.62970   \n",
      "27    K00757.03       CONFIRMED     6.25296       0.105       2.58190   \n",
      "28    K00758.01       CONFIRMED    16.01308       0.799       3.25540   \n",
      "29    K00759.01       CONFIRMED    32.62877       0.021       4.79710   \n",
      "...         ...             ...         ...         ...           ...   \n",
      "5172  K07974.01  FALSE POSITIVE     1.33255       0.462       3.63000   \n",
      "5173  K07975.01  FALSE POSITIVE     1.33259       0.711       4.94700   \n",
      "5174  K08083.01  FALSE POSITIVE   234.52444       0.741       3.90000   \n",
      "5175  K08084.01  FALSE POSITIVE   317.74527       0.787      17.54000   \n",
      "5176  K08086.01  FALSE POSITIVE    18.38495       0.012       5.92000   \n",
      "5177  K08087.01  FALSE POSITIVE     1.08597       0.916      10.71600   \n",
      "5178  K08088.01  FALSE POSITIVE   308.18580       0.023       3.68900   \n",
      "5179  K08186.01  FALSE POSITIVE   241.85910       0.313      12.77000   \n",
      "5180  K08188.01  FALSE POSITIVE   522.33888       0.039      13.53000   \n",
      "5181  K08189.01  FALSE POSITIVE   473.56314       0.158       5.08700   \n",
      "5182  K08190.01  FALSE POSITIVE     1.33257       1.268       6.08280   \n",
      "5183  K08191.01  FALSE POSITIVE   385.39743       0.587      21.69000   \n",
      "5184  K08296.01  FALSE POSITIVE   272.54288       0.287       3.02460   \n",
      "5185  K07980.01  FALSE POSITIVE     1.33256       0.397       4.74000   \n",
      "5186  K07981.01  FALSE POSITIVE     1.33250       0.295       4.14300   \n",
      "5187  K07983.01  FALSE POSITIVE   453.64875       0.519      18.34000   \n",
      "5188  K08091.01  FALSE POSITIVE   239.17948       0.165       2.93000   \n",
      "5189  K08092.01  FALSE POSITIVE   405.65377       0.102      11.02000   \n",
      "5190  K08094.01  FALSE POSITIVE   361.90162       0.093       4.98400   \n",
      "5191  K08095.01  FALSE POSITIVE   508.04103       0.476       5.39800   \n",
      "5192  K08096.01  FALSE POSITIVE   309.93313       0.730       7.16500   \n",
      "5193  K08192.01  FALSE POSITIVE   266.97768       0.895       8.59000   \n",
      "5194  K08194.01  FALSE POSITIVE   236.25777       0.085       3.35490   \n",
      "5195  K08195.01  FALSE POSITIVE   330.80879       0.920      21.66900   \n",
      "5196  K08196.01  FALSE POSITIVE   522.64613       0.007      17.77000   \n",
      "5197  K08198.01  FALSE POSITIVE   373.89398       0.963      27.66000   \n",
      "5198  K07984.01  FALSE POSITIVE     8.58987       0.765       4.80600   \n",
      "5199  K07985.01  FALSE POSITIVE     0.52770       1.252       3.22210   \n",
      "5200  K07987.01  FALSE POSITIVE     0.68140       0.147       0.86500   \n",
      "5201  K07989.01  FALSE POSITIVE     4.85603       0.134       3.07800   \n",
      "\n",
      "      koi_depth  koi_ror  koi_srho  koi_prad  koi_sma  ...  koi_fwm_srao  \\\n",
      "0         615.8  0.02234   3.20796      2.26   0.0853  ...        0.4300   \n",
      "1         874.8  0.02795   3.02368      2.83   0.2734  ...       -0.6300   \n",
      "2        8079.2  0.38739   0.22080     33.46   0.0267  ...       -0.1110   \n",
      "3         603.3  0.02406   1.98635      2.75   0.0374  ...       -0.0100   \n",
      "4         233.7  0.18339   0.00485     39.21   0.0820  ...      -13.4500   \n",
      "5        4914.3  0.06216   3.66590      5.76   0.1158  ...        0.0330   \n",
      "6       14231.0  0.12387   1.83538     13.04   0.0354  ...       -0.0232   \n",
      "7        9145.7  0.09209   0.65374     14.59   0.0473  ...       -0.5515   \n",
      "8         131.1  0.01042   1.77451      1.16   0.0465  ...        0.3600   \n",
      "9       17984.0  1.62536   1.27376    150.51   0.0978  ...        0.0680   \n",
      "10       8918.7  0.09673   0.03785      7.18   0.1230  ...        0.0380   \n",
      "11      74284.0  0.47663   1.57359     49.29   0.1417  ...       -0.1235   \n",
      "12      10479.0  0.09251   0.19353      7.94   0.1147  ...       -0.0920   \n",
      "13       1288.3  0.03256   1.93557      2.47   0.0759  ...       -0.0500   \n",
      "14       1912.7  0.03884  13.09803      2.85   0.0585  ...       -0.3200   \n",
      "15        397.9  0.01767   0.51471      1.58   0.0349  ...       -1.4700   \n",
      "16        831.0  0.02571   1.73782      2.55   0.0563  ...       -0.7100   \n",
      "17        363.3  0.01711   1.85636      1.70   0.0460  ...        0.2000   \n",
      "18        217.4  0.01313   1.53020      1.30   0.0743  ...        3.8000   \n",
      "19        857.2  0.03267   0.60007      2.95   0.1408  ...        0.5400   \n",
      "20        934.7  0.03001   1.71827      2.78   0.0559  ...        0.2600   \n",
      "21        750.8  0.02538   1.24482      2.30   0.0503  ...       -0.3300   \n",
      "22       2211.7  0.04990   0.84722      4.53   0.0250  ...        0.7690   \n",
      "23      18091.0  0.13170   0.02605     14.14   1.5155  ...       -0.5510   \n",
      "24       5123.3  0.33463   0.12411     39.87   0.3137  ...       -0.4300   \n",
      "25        724.2  0.02490   1.40588      2.82   0.2163  ...        0.3600   \n",
      "26       2213.9  0.04169   3.94710      3.86   0.2170  ...       -0.4300   \n",
      "27       1036.9  0.02860   3.28707      2.65   0.0617  ...       -0.3600   \n",
      "28       1121.9  0.03437   1.10942      3.10   0.1148  ...       -0.0300   \n",
      "29       1804.8  0.03852   2.79093      3.36   0.1889  ...       -0.2500   \n",
      "...         ...      ...       ...       ...      ...  ...           ...   \n",
      "5172       66.6  0.00766   0.18851      0.92   0.0248  ...       -1.6000   \n",
      "5173      105.5  0.01006   0.05165      1.14   0.0245  ...       -2.7000   \n",
      "5174      876.0  0.02941  12.10972      2.33   0.6887  ...       -2.1000   \n",
      "5175      206.6  0.01445   0.13063      2.10   0.8391  ...       -0.1000   \n",
      "5176       92.9  0.00887   0.76899      1.36   0.1438  ...       -0.3000   \n",
      "5177    10579.0  0.11298   0.02078     29.66   0.0298  ...       -0.2700   \n",
      "5178      708.7  0.02388  55.52022      2.12   0.8686  ...       -1.5000   \n",
      "5179      659.0  0.02364   0.90576      2.81   0.7139  ...       -0.5900   \n",
      "5180      423.7  0.01836   1.87609      5.65   1.3374  ...        1.2000   \n",
      "5181      327.4  0.01679  30.75640      5.39   1.4084  ...        0.1000   \n",
      "5182     2319.8  0.32209   0.03132     33.69   0.0241  ...        0.3100   \n",
      "5183      132.3  0.01090   0.17774      1.59   1.0280  ...        7.9000   \n",
      "5184      807.2  0.02599  79.41125      2.35   0.7989  ...        2.0000   \n",
      "5185       48.7  0.00635   0.09833      0.62   0.0222  ...       -3.4000   \n",
      "5186       27.4  0.00487   0.15573      0.62   0.0247  ...       -4.0000   \n",
      "5187      523.4  0.02157   0.42225      2.18   1.1591  ...       -0.5000   \n",
      "5188      750.9  0.02433  82.89537     18.27   0.9498  ...        0.3200   \n",
      "5189      521.0  0.02101   2.68046      2.03   1.0615  ...       -0.7000   \n",
      "5190      184.1  0.01211  25.23923      0.95   0.9042  ...        0.1000   \n",
      "5191      371.7  0.01789  19.85264      1.89   1.2798  ...       -0.8000   \n",
      "5192      176.1  0.01308   2.45940      1.80   0.9603  ...       -1.7000   \n",
      "5193      389.6  0.02112   0.42083      7.86   0.9631  ...       -0.3200   \n",
      "5194      168.4  0.01200  54.11840      2.69   0.8328  ...       -0.2100   \n",
      "5195      274.8  0.01829   0.02293      2.13   0.9363  ...       -0.3000   \n",
      "5196      648.1  0.02294   0.84129      0.80   0.8695  ...        0.1600   \n",
      "5197      730.0  0.03288   0.00771      2.51   0.8885  ...       -1.0000   \n",
      "5198       87.7  0.00936   0.18863      1.11   0.0779  ...        1.1000   \n",
      "5199     1579.2  0.29763   0.16318     29.35   0.0128  ...        0.7920   \n",
      "5200      103.6  0.00944   8.97692      1.07   0.0157  ...        7.2000   \n",
      "5201       76.7  0.00808   1.40645      1.05   0.0606  ...        2.9000   \n",
      "\n",
      "      koi_fwm_sdeco  koi_fwm_prao  koi_fwm_pdeco  koi_dicco_mra  \\\n",
      "0            0.9400      -0.00020       -0.00055         -0.010   \n",
      "1            1.2300       0.00066       -0.00105          0.390   \n",
      "2            0.0020       0.00302       -0.00142         -0.249   \n",
      "3            0.2300       0.00008       -0.00007          0.030   \n",
      "4           24.0900       0.00303       -0.00555         -4.506   \n",
      "5           -0.0440       0.00026        0.00049          0.041   \n",
      "6            0.1066      -0.00012        0.00078         -0.009   \n",
      "7           -0.0597       0.00001        0.00036          0.014   \n",
      "8            0.4500      -0.00005       -0.00005          0.240   \n",
      "9           -0.0380       0.00000        0.00010          0.009   \n",
      "10          -0.0050      -0.00038       -0.00020         -0.001   \n",
      "11          -0.2667      -0.00050       -0.00200          0.003   \n",
      "12          -0.2500       0.00070        0.00080         -0.040   \n",
      "13           0.2000       0.00034        0.00019         -0.059   \n",
      "14          -0.2400      -0.00017       -0.00010          0.110   \n",
      "15          -0.5300       0.00047        0.00019          1.080   \n",
      "16          -0.3800       0.00055        0.00030          0.040   \n",
      "17           0.3800      -0.00008       -0.00013         -0.230   \n",
      "18          -0.1000      -0.00072        0.00002         -0.110   \n",
      "19          -0.2600      -0.00064        0.00000         -0.100   \n",
      "20          -0.1700       0.00002        0.00001         -0.140   \n",
      "21           0.0400       0.00073        0.00006          0.003   \n",
      "22           0.6430      -0.00174       -0.00150          0.998   \n",
      "23           0.4350       0.01750       -0.00490         -1.286   \n",
      "24           0.2800       0.00100       -0.00090          0.063   \n",
      "25          -0.9100       0.00067       -0.00104         -0.850   \n",
      "26           0.0000       0.00111        0.00012          0.120   \n",
      "27           0.1500       0.00042       -0.00009          0.030   \n",
      "28          -0.3600      -0.00002        0.00054         -0.060   \n",
      "29          -0.1700       0.00079       -0.00016          0.037   \n",
      "...             ...           ...            ...            ...   \n",
      "5172        -0.5000       0.00011        0.00002         -1.920   \n",
      "5173         1.3000       0.00025       -0.00012         -4.410   \n",
      "5174         2.6000       0.00150       -0.00110          0.570   \n",
      "5175        -1.0000       0.00001        0.00021          0.595   \n",
      "5176        -0.8500       0.00003        0.00008          0.070   \n",
      "5177        -0.4300       0.00008        0.00015          0.001   \n",
      "5178        -1.3000      -0.00020        0.00160          1.400   \n",
      "5179         0.8800       0.00036       -0.00037         -0.260   \n",
      "5180         1.5000      -0.00045       -0.00056          1.220   \n",
      "5181         0.6000      -0.00011       -0.00023          0.410   \n",
      "5182        -0.3300      -0.00017        0.00007          0.300   \n",
      "5183         3.1000      -0.00079       -0.00035          2.110   \n",
      "5184        -3.7000      -0.00170        0.00280          5.400   \n",
      "5185         0.8000       0.00017       -0.00004         -1.700   \n",
      "5186         2.6000       0.00009       -0.00006         -3.930   \n",
      "5187        -0.7000       0.00010        0.00040          1.860   \n",
      "5188         1.0000      -0.00022       -0.00060          0.170   \n",
      "5189         0.0000       0.00030       -0.00010         -0.600   \n",
      "5190        -0.1900       0.00001        0.00007          1.800   \n",
      "5191         1.3000      -0.00007       -0.00046         -3.100   \n",
      "5192         0.6000       0.00029       -0.00005         -3.600   \n",
      "5193         0.6400       0.00007       -0.00035         -0.410   \n",
      "5194        -0.3000       0.00003        0.00010         -0.270   \n",
      "5195        -0.3900       0.00002       -0.00001          1.710   \n",
      "5196         0.7900      -0.00033       -0.00116         -0.467   \n",
      "5197        -0.3000       0.00060        0.00030          2.360   \n",
      "5198         1.2000      -0.00008       -0.00010          1.260   \n",
      "5199        -0.4840      -0.00024        0.00018          2.132   \n",
      "5200        -5.6000      -0.00072        0.00050          3.410   \n",
      "5201         8.9000      -0.00023       -0.00070          1.020   \n",
      "\n",
      "      koi_dicco_mdec  koi_dicco_msky  koi_dikco_mra  koi_dikco_mdec  \\\n",
      "0              0.200           0.200          0.080           0.310   \n",
      "1              0.000           0.390          0.490           0.120   \n",
      "2              0.147           0.289         -0.257           0.099   \n",
      "3             -0.090           0.100          0.070           0.020   \n",
      "4              7.710           8.930         -4.537           7.713   \n",
      "5             -0.015           0.044          0.005           0.030   \n",
      "6             -0.300           0.300          0.015          -0.270   \n",
      "7             -0.013           0.020         -0.028           0.176   \n",
      "8             -0.150           0.290          0.160          -0.130   \n",
      "9             -0.009           0.013          0.147           0.037   \n",
      "10             0.009           0.009         -0.147          -0.038   \n",
      "11             0.005           0.006         -0.018          -0.203   \n",
      "12            -0.004           0.040          0.017           0.001   \n",
      "13            -0.008           0.059          0.042           0.344   \n",
      "14             0.010           0.110         -0.190          -0.240   \n",
      "15             2.190           2.440          0.890           2.320   \n",
      "16            -0.020           0.040         -0.020          -0.030   \n",
      "17             0.350           0.420         -0.240           0.340   \n",
      "18            -0.140           0.180         -0.150          -0.150   \n",
      "19            -0.040           0.110         -0.280          -0.230   \n",
      "20             0.170           0.220         -0.060           0.100   \n",
      "21            -0.065           0.066         -0.015           0.158   \n",
      "22             0.821           1.292          0.877           0.734   \n",
      "23             0.227           1.306         -1.047           0.310   \n",
      "24            -0.055           0.083         -0.069          -0.028   \n",
      "25             1.540           1.760         -0.010           0.040   \n",
      "26             0.000           0.120          0.070           0.030   \n",
      "27             0.050           0.060         -0.020           0.050   \n",
      "28            -0.210           0.220         -0.180          -0.080   \n",
      "29             0.070           0.080          0.121          -0.090   \n",
      "...              ...             ...            ...             ...   \n",
      "5172           2.510           3.160         -1.900           2.450   \n",
      "5173           0.400           4.420         -4.380           0.500   \n",
      "5174          -0.200           0.600          0.420          -0.110   \n",
      "5175          -0.420           0.730          0.518          -0.170   \n",
      "5176           0.420           0.430          0.110           0.430   \n",
      "5177          -0.014           0.014         -0.001           0.081   \n",
      "5178          -3.300           3.600          1.170          -3.100   \n",
      "5179           0.010           0.260         -0.120           0.090   \n",
      "5180           0.010           1.220          1.180           0.030   \n",
      "5181           1.720           1.770          0.400           1.610   \n",
      "5182           1.070           1.120          0.270           0.840   \n",
      "5183          -0.670           2.210          2.160          -0.850   \n",
      "5184           2.080           5.700          5.200           1.780   \n",
      "5185           2.160           2.750         -1.660           2.130   \n",
      "5186           4.900           6.300         -3.910           4.800   \n",
      "5187          -3.800           4.200          1.680          -3.800   \n",
      "5188           0.690           0.710          0.390           0.580   \n",
      "5189           0.400           0.700         -0.900           0.300   \n",
      "5190          -0.300           1.830          1.770          -0.300   \n",
      "5191           0.910           3.200         -3.700           0.500   \n",
      "5192           0.000           3.600         -3.700          -0.200   \n",
      "5193           0.820           0.920         -0.400           0.760   \n",
      "5194           0.350           0.440         -0.250           0.320   \n",
      "5195           0.800           1.890          1.380           0.470   \n",
      "5196           1.500           1.600         -0.768           1.140   \n",
      "5197          -0.990           2.550          2.370          -0.910   \n",
      "5198          -1.200           1.750          1.350          -1.300   \n",
      "5199          -1.757           2.763          2.344          -1.756   \n",
      "5200          -3.650           5.000          3.380          -3.890   \n",
      "5201           3.300           3.400          0.960           3.400   \n",
      "\n",
      "      koi_dikco_msky  \n",
      "0              0.320  \n",
      "1              0.500  \n",
      "2              0.276  \n",
      "3              0.070  \n",
      "4              8.948  \n",
      "5              0.031  \n",
      "6              0.270  \n",
      "7              0.178  \n",
      "8              0.210  \n",
      "9              0.151  \n",
      "10             0.152  \n",
      "11             0.203  \n",
      "12             0.017  \n",
      "13             0.346  \n",
      "14             0.300  \n",
      "15             2.490  \n",
      "16             0.040  \n",
      "17             0.420  \n",
      "18             0.220  \n",
      "19             0.360  \n",
      "20             0.110  \n",
      "21             0.158  \n",
      "22             1.144  \n",
      "23             1.092  \n",
      "24             0.074  \n",
      "25             0.040  \n",
      "26             0.080  \n",
      "27             0.050  \n",
      "28             0.190  \n",
      "29             0.150  \n",
      "...              ...  \n",
      "5172           3.100  \n",
      "5173           4.410  \n",
      "5174           0.430  \n",
      "5175           0.540  \n",
      "5176           0.450  \n",
      "5177           0.081  \n",
      "5178           3.300  \n",
      "5179           0.150  \n",
      "5180           1.180  \n",
      "5181           1.660  \n",
      "5182           0.890  \n",
      "5183           2.330  \n",
      "5184           5.500  \n",
      "5185           2.700  \n",
      "5186           6.200  \n",
      "5187           4.200  \n",
      "5188           0.700  \n",
      "5189           0.900  \n",
      "5190           1.790  \n",
      "5191           3.700  \n",
      "5192           3.800  \n",
      "5193           0.850  \n",
      "5194           0.400  \n",
      "5195           1.460  \n",
      "5196           1.370  \n",
      "5197           2.540  \n",
      "5198           1.840  \n",
      "5199           2.929  \n",
      "5200           5.160  \n",
      "5201           3.500  \n",
      "\n",
      "[5202 rows x 43 columns]\n"
     ]
    }
   ],
   "source": [
    "df = pd.read_csv(FILE_PATH)\n",
    "\n",
    "# Imprime algumas informacoes basicas sobre os dados\n",
    "print(\"Numero de linhas: {}\".format(df.shape[0]))\n",
    "print(\"Numero de colunas: {}\".format(df.shape[1]))\n",
    "\n",
    "# Cria a lista de features com base nas colunas do arquivo CSV\n",
    "features = list(df.columns)\n",
    "\n",
    "#Remove a coluna target pois ela que está querendo prever.\n",
    "features.remove(TARGET)\n",
    "\n",
    "#Remove a coluna de nome, pois não é necessária para a predição\n",
    "features.remove(COLUMN_KOI)\n",
    "\n",
    "print(df)"
   ]
  },
  {
   "cell_type": "markdown",
   "metadata": {},
   "source": [
    "## Ajustando o Target (rótulos dos dados)"
   ]
  },
  {
   "cell_type": "code",
   "execution_count": 4,
   "metadata": {
    "scrolled": false
   },
   "outputs": [
    {
     "data": {
      "text/html": [
       "<div>\n",
       "<style scoped>\n",
       "    .dataframe tbody tr th:only-of-type {\n",
       "        vertical-align: middle;\n",
       "    }\n",
       "\n",
       "    .dataframe tbody tr th {\n",
       "        vertical-align: top;\n",
       "    }\n",
       "\n",
       "    .dataframe thead th {\n",
       "        text-align: right;\n",
       "    }\n",
       "</style>\n",
       "<table border=\"1\" class=\"dataframe\">\n",
       "  <thead>\n",
       "    <tr style=\"text-align: right;\">\n",
       "      <th></th>\n",
       "      <th>FALSE POSITIVE</th>\n",
       "      <th>CONFIRMED</th>\n",
       "    </tr>\n",
       "  </thead>\n",
       "  <tbody>\n",
       "    <tr>\n",
       "      <th>koi_disposition (%)</th>\n",
       "      <td>59.55</td>\n",
       "      <td>40.45</td>\n",
       "    </tr>\n",
       "  </tbody>\n",
       "</table>\n",
       "</div>"
      ],
      "text/plain": [
       "                     FALSE POSITIVE  CONFIRMED\n",
       "koi_disposition (%)           59.55      40.45"
      ]
     },
     "metadata": {},
     "output_type": "display_data"
    }
   ],
   "source": [
    "#Porcentagem de False Positive e Confirmed \n",
    "display((df[TARGET].value_counts()/len(df)*100).round(2).to_frame(TARGET +\" (%)\").T)\n",
    "\n",
    "df[TARGET] = (df[TARGET] == \"CONFIRMED\").astype(int)"
   ]
  },
  {
   "cell_type": "markdown",
   "metadata": {},
   "source": [
    "## Separação dos dados para a validação cruzada\n",
    "\n",
    "Nessa parte são separados os dados com base nos folds(5) para a validação cruzada. A partir disto, os algoritmos irão usar essa separação para os testes."
   ]
  },
  {
   "cell_type": "code",
   "execution_count": 5,
   "metadata": {},
   "outputs": [
    {
     "name": "stdout",
     "output_type": "stream",
     "text": [
      "4161\n"
     ]
    }
   ],
   "source": [
    "#Criando os vetores de treino e teste\n",
    "x_train = []\n",
    "y_train = []\n",
    "x_validation = []\n",
    "y_validation = []\n",
    "\n",
    "#Selecionando as features\n",
    "skb = feature_selection.SelectKBest(feature_selection.f_classif, 41)\n",
    "skb = skb.fit(df[features], df[TARGET])\n",
    "\n",
    "#separa o X são os exemplos e o Y é o rótulo [0 ou 1]\n",
    "X = df\n",
    "Y = df[TARGET]\n",
    "\n",
    "#Aqui é realizado é feito a separação dos dados em K_FOLD = 5.\n",
    "data_kfold = StratifiedKFold(n_splits=K_FOLD)\n",
    "data_kfold.get_n_splits(X, Y)\n",
    "\n",
    "\n",
    "#Nessa parte é lido os folds e armazenado nas listas.\n",
    "# Exemplo: x_train [ fold1, fold2, fold3, fold4, fold5 ]\n",
    "\n",
    "for train_index, test_index in data_kfold.split(X, Y):\n",
    "    x_train.append(skb.transform(df.loc[train_index, features]))\n",
    "    x_validation.append(skb.transform(df.loc[test_index, features]))\n",
    "    y_train.append(df.loc[train_index, TARGET])\n",
    "    y_validation.append(df.loc[test_index, TARGET])    \n",
    "    \n",
    "print(len(x_train[0]))\n"
   ]
  },
  {
   "cell_type": "markdown",
   "metadata": {},
   "source": [
    "**Naive Bayes**"
   ]
  },
  {
   "cell_type": "code",
   "execution_count": null,
   "metadata": {},
   "outputs": [],
   "source": [
    "def executar_naivebayes():\n",
    "    return 0"
   ]
  },
  {
   "cell_type": "markdown",
   "metadata": {},
   "source": [
    "**k-NN**"
   ]
  },
  {
   "cell_type": "code",
   "execution_count": 6,
   "metadata": {},
   "outputs": [],
   "source": [
    "def executar_k_nn(k): \n",
    "    train_acc = []\n",
    "    val_acc = []\n",
    "    \n",
    "    print(\"K = {}\".format(k))             \n",
    "    clf = neighbors.KNeighborsClassifier(n_neighbors=k) \n",
    "    \n",
    "    for i in range(0, K_FOLD):          \n",
    "        clf = clf.fit(x_train[i], y_train[i])  \n",
    "        train_acc.append(clf.score(x_train[i], y_train[i]))\n",
    "        val_acc.append(clf.score(x_validation[i], y_validation[i]))\n",
    "\n",
    "    print(\"Média da Acurácia na treino: {:.3}\".format(np.average(train_acc)))\n",
    "    print(\"Média da Acurácia na validação: {:.3}\".format(np.average(val_acc)))\n",
    "    print(\"Desvio Padrão da Acurácia na treino: {:.3}\".format(statistics.stdev(train_acc)))\n",
    "    print(\"Desvio Padrão da Acurácia na validação: {:.3}\".format(statistics.stdev(val_acc)))   \n",
    "            "
   ]
  },
  {
   "cell_type": "code",
   "execution_count": 7,
   "metadata": {},
   "outputs": [
    {
     "name": "stdout",
     "output_type": "stream",
     "text": [
      "K = 5\n",
      "Média da Acurácia na treino: 0.848\n",
      "Média da Acurácia na validação: 0.773\n",
      "Desvio Padrão da Acurácia na treino: 0.00781\n",
      "Desvio Padrão da Acurácia na validação: 0.0482\n"
     ]
    }
   ],
   "source": [
    "executar_k_nn(5)"
   ]
  },
  {
   "cell_type": "code",
   "execution_count": 8,
   "metadata": {},
   "outputs": [
    {
     "name": "stdout",
     "output_type": "stream",
     "text": [
      "K = 10\n",
      "Média da Acurácia na treino: 0.825\n",
      "Média da Acurácia na validação: 0.776\n",
      "Desvio Padrão da Acurácia na treino: 0.0109\n",
      "Desvio Padrão da Acurácia na validação: 0.0456\n"
     ]
    }
   ],
   "source": [
    "executar_k_nn(10)"
   ]
  },
  {
   "cell_type": "code",
   "execution_count": 31,
   "metadata": {},
   "outputs": [
    {
     "name": "stdout",
     "output_type": "stream",
     "text": [
      "K = 32\n",
      "Média da Acurácia na treino: 0.799\n",
      "Média da Acurácia na validação: 0.781\n",
      "Desvio Padrão da Acurácia na treino: 0.011\n",
      "Desvio Padrão da Acurácia na validação: 0.0539\n"
     ]
    }
   ],
   "source": [
    "executar_k_nn(32)"
   ]
  },
  {
   "cell_type": "markdown",
   "metadata": {},
   "source": [
    "**Support Vector Machine**"
   ]
  },
  {
   "cell_type": "code",
   "execution_count": 32,
   "metadata": {},
   "outputs": [],
   "source": [
    "def executar_svm_linar(c):    \n",
    "    clf = svm.SVC(c, \"linear\")\n",
    "    \n",
    "    for i in range(0, 1):          \n",
    "        clf = clf.fit(x_train[i], y_train[i])  \n",
    "        train_acc.append(clf.score(x_train[i], y_train[i]))\n",
    "        val_acc.append(clf.score(x_validation[i], y_validation[i]))\n",
    "   \n",
    "    print(\"Média da Acurácia na treino: {:.3}\".format(np.average(train_acc)))\n",
    "    print(\"Média da Acurácia na validação: {:.3}\".format(np.average(val_acc)))\n",
    "    print(\"Desvio Padrão da Acurácia na treino: {:.3}\".format(statistics.stdev(train_acc)))\n",
    "    print(\"Desvio Padrão da Acurácia na validação: {:.3}\".format(statistics.stdev(val_acc)))   "
   ]
  },
  {
   "cell_type": "code",
   "execution_count": null,
   "metadata": {},
   "outputs": [],
   "source": [
    "executar_svm_linar(0.01)"
   ]
  },
  {
   "cell_type": "markdown",
   "metadata": {},
   "source": [
    "**Ramdom Forest**"
   ]
  },
  {
   "cell_type": "code",
   "execution_count": null,
   "metadata": {},
   "outputs": [],
   "source": [
    "def executar_ramdomforest(N, max_depth):\n",
    "    clf = ensemble.RandomForestClassifier(n_estimators=N, max_depth=max_depth)\n",
    "    \n",
    "    for i in range(0, K_FOLD):          \n",
    "        clf = clf.fit(x_train[i], y_train[i])  \n",
    "        train_acc.append(clf.score(x_train[i], y_train[i]))\n",
    "        val_acc.append(clf.score(x_validation[i], y_validation[i]))        \n",
    "\n",
    "    print(\"Média da Acurácia na treino: {:.3}\".format(np.average(train_acc)))\n",
    "    print(\"Média da Acurácia na validação: {:.3}\".format(np.average(val_acc)))\n",
    "    print(\"Desvio Padrão da Acurácia na treino: {:.3}\".format(statistics.stdev(train_acc)))\n",
    "    print(\"Desvio Padrão da Acurácia na validação: {:.3}\".format(statistics.stdev(val_acc)))"
   ]
  },
  {
   "cell_type": "code",
   "execution_count": null,
   "metadata": {},
   "outputs": [],
   "source": [
    "executar_ramdomforest(50, None)"
   ]
  },
  {
   "cell_type": "code",
   "execution_count": null,
   "metadata": {},
   "outputs": [],
   "source": [
    "executar_ramdomforest(50, 5)"
   ]
  }
 ],
 "metadata": {
  "kernelspec": {
   "display_name": "Python 3",
   "language": "python",
   "name": "python3"
  },
  "language_info": {
   "codemirror_mode": {
    "name": "ipython",
    "version": 3
   },
   "file_extension": ".py",
   "mimetype": "text/x-python",
   "name": "python",
   "nbconvert_exporter": "python",
   "pygments_lexer": "ipython3",
   "version": "3.7.3"
  }
 },
 "nbformat": 4,
 "nbformat_minor": 2
}
