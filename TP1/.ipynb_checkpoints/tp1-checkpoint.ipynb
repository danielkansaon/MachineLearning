{
 "cells": [
  {
   "cell_type": "markdown",
   "metadata": {},
   "source": [
    "<h1>Trabalho Prático 1 - Daniel Pimentel Kansaon</h1>\n"
   ]
  },
  {
   "cell_type": "markdown",
   "metadata": {},
   "source": [
    "O trabalho consiste na aplicação de algoritmos supervisionados comparando ao todo 6 métodos:\n",
    "\n",
    "- **Naive Bayes**: Apenas um experimento para servir de baseline.\n",
    "- **Decision Tree**: Variar a altura máxima da árvore (incluindo permitir altura ilimitada) e mostrar os resultados graficamente.\n",
    "- **SVM**: Avaliar os kernels linear, sigmoid, polinomial e RBF.\n",
    "- **k-NN**: Variar o número k de vizinhos e mostrar os resultados graficamente.\n",
    "- **Random Forest**: Variar o número de árvores e mostrar os resultados graficamente.\n",
    "- **Gradient Tree Boosting**: Variar o número de iterações e mostrar os resultados graficamente.\n",
    "\n",
    "Os métodos serão testados em um problema de classificação binária (0 - 1) de candidatos a exoplanetas encontrados pela sonda espacial Kepler da NASA. Um exoplaneta é um planeta fora do sistema solar (i.e. que não orbita o sol). A sonda primeiro identifica sinais de possíıveis exoplanetas, chamados de Kepler Object of Interest (KOI). Porem nem todos os KOIs são de fato exoplanetas, alguns se tratam de \"Falsos Positivos\" de origens diversas. A tarefa é então classificar os KOIs entre exoplanetas\n",
    "confirmados e \"Falsos Positivos\". Cada observação corresponde a um KOI e as features são características estimadas de cada (possível) exoplaneta (tamanho, temperatura, features da estrela hospedeira, etc).\n"
   ]
  },
  {
   "cell_type": "code",
   "execution_count": 2,
   "metadata": {},
   "outputs": [],
   "source": [
    "#Adicionando as referências que serão usadas durante o trabalho\n",
    "import pandas as pd\n",
    "import numpy as np\n",
    "import random\n",
    "\n",
    "from sklearn.model_selection import StratifiedKFold\n",
    "from sklearn import feature_selection\n",
    "import matplotlib.pyplot as plt\n",
    "from sklearn import metrics\n",
    "import matplotlib as mpl\n",
    "import statistics\n",
    "\n",
    "#Metodos\n",
    "from sklearn import svm\n",
    "from sklearn import neighbors #K-nn\n",
    "from sklearn import ensemble #Random Forest\n",
    "from sklearn.naive_bayes import GaussianNB #Naive Bayes\n",
    "from sklearn.naive_bayes import MultinomialNB #Naive Bayes\n",
    "from sklearn.tree import DecisionTreeClassifier #Decision Tree\n"
   ]
  },
  {
   "cell_type": "code",
   "execution_count": 3,
   "metadata": {},
   "outputs": [],
   "source": [
    "# As constantes do projeto estão adicionadas aqui.\n",
    "\n",
    "# Caminho arquivo com os dados\n",
    "FILE_PATH = \"koi_data.csv\"\n",
    "\n",
    "#Quantidade de folds que será utilizado para a etapa de Cross-Validation\n",
    "K_FOLD = 5\n",
    "\n",
    "#Coluna TARGET do arquivo CSV\n",
    "TARGET = \"koi_disposition\"\n",
    "\n",
    "#Coluna que possui o nome do KOI\n",
    "COLUMN_KOI = \"kepoi_name\""
   ]
  },
  {
   "cell_type": "markdown",
   "metadata": {},
   "source": [
    "## Tratamento nos Dados\n",
    "\n",
    "Como dito acima, cada observação realizada corresponde a um KOI e as features são características estimadas de cada (possível) exoplaneta (tamanho, temperatura, features da estrela hospedeira, etc).\n",
    "\n",
    "Assim, nesta etapa serão realizados processamentos nos dados a fim de prepará-los para a execução dos algoritmos."
   ]
  },
  {
   "cell_type": "code",
   "execution_count": 4,
   "metadata": {
    "scrolled": true
   },
   "outputs": [
    {
     "name": "stdout",
     "output_type": "stream",
     "text": [
      "Número de linhas: 5202\n",
      "Número de colunas: 43\n"
     ]
    }
   ],
   "source": [
    "df = pd.read_csv(FILE_PATH)\n",
    "\n",
    "# Imprime algumas informacoes basicas sobre os dados\n",
    "print(\"Número de linhas: {}\".format(df.shape[0]))\n",
    "print(\"Número de colunas: {}\".format(df.shape[1]))\n",
    "\n",
    "# Cria a lista de features com base nas colunas do arquivo CSV\n",
    "features = list(df.columns)\n",
    "\n",
    "#Remove a coluna target pois ela que está querendo prever.\n",
    "features.remove(TARGET)\n",
    "\n",
    "#Remove a coluna de nome, pois não é necessária para a predição\n",
    "features.remove(COLUMN_KOI)"
   ]
  },
  {
   "cell_type": "markdown",
   "metadata": {},
   "source": [
    "## Ajustando o Target (rótulos dos dados)"
   ]
  },
  {
   "cell_type": "code",
   "execution_count": 5,
   "metadata": {
    "scrolled": false
   },
   "outputs": [
    {
     "data": {
      "text/html": [
       "<div>\n",
       "<style scoped>\n",
       "    .dataframe tbody tr th:only-of-type {\n",
       "        vertical-align: middle;\n",
       "    }\n",
       "\n",
       "    .dataframe tbody tr th {\n",
       "        vertical-align: top;\n",
       "    }\n",
       "\n",
       "    .dataframe thead th {\n",
       "        text-align: right;\n",
       "    }\n",
       "</style>\n",
       "<table border=\"1\" class=\"dataframe\">\n",
       "  <thead>\n",
       "    <tr style=\"text-align: right;\">\n",
       "      <th></th>\n",
       "      <th>FALSE POSITIVE</th>\n",
       "      <th>CONFIRMED</th>\n",
       "    </tr>\n",
       "  </thead>\n",
       "  <tbody>\n",
       "    <tr>\n",
       "      <th>koi_disposition (%)</th>\n",
       "      <td>59.55</td>\n",
       "      <td>40.45</td>\n",
       "    </tr>\n",
       "  </tbody>\n",
       "</table>\n",
       "</div>"
      ],
      "text/plain": [
       "                     FALSE POSITIVE  CONFIRMED\n",
       "koi_disposition (%)           59.55      40.45"
      ]
     },
     "metadata": {},
     "output_type": "display_data"
    }
   ],
   "source": [
    "#Porcentagem de [False Positive e Confirmed]\n",
    "display((df[TARGET].value_counts()/len(df)*100).round(2).to_frame(TARGET +\" (%)\").T)\n",
    "df[TARGET] = (df[TARGET] == \"CONFIRMED\").astype(int)"
   ]
  },
  {
   "cell_type": "markdown",
   "metadata": {},
   "source": [
    "## Separação dos dados para a validação cruzada\n",
    "\n",
    "Nessa parte são separados os dados com base nos folds(5) para a validação cruzada. A partir disto, os algoritmos irão usar essa separação para os testes."
   ]
  },
  {
   "cell_type": "code",
   "execution_count": 6,
   "metadata": {},
   "outputs": [],
   "source": [
    "#Criando os vetores de treino e validacao\n",
    "x_train = []\n",
    "y_train = []\n",
    "x_validation = []\n",
    "y_validation = []\n",
    "\n",
    "#Selecionando as features\n",
    "skb = feature_selection.SelectKBest(feature_selection.f_classif, 41)\n",
    "skb = skb.fit(df[features], df[TARGET])\n",
    "\n",
    "#separa o X (são os exemplos) e o Y é o rótulo [0 ou 1]\n",
    "X = df\n",
    "Y = df[TARGET]\n",
    "\n",
    "#Aqui é feito a separação dos dados em K_FOLD = 5.\n",
    "data_kfold = StratifiedKFold(n_splits=K_FOLD, shuffle=True)\n",
    "data_kfold.get_n_splits(X, Y)\n",
    "\n",
    "\n",
    "#Nessa parte é lido os folds e armazenado nas listas.\n",
    "#Exemplo: x_train [ fold1, fold2, fold3, fold4, fold5 ]\n",
    "\n",
    "for train_index, test_index in data_kfold.split(X, Y):\n",
    "    x_train.append(skb.transform(df.loc[train_index, features]))\n",
    "    x_validation.append(skb.transform(df.loc[test_index, features]))\n",
    "    y_train.append(df.loc[train_index, TARGET])\n",
    "    y_validation.append(df.loc[test_index, TARGET])    "
   ]
  },
  {
   "cell_type": "markdown",
   "metadata": {},
   "source": [
    "## Métodos Comuns\n",
    "\n",
    "Nesta parte são criados os métodos comuns que serão utilizados para gerar gráficos e plotar os resultados."
   ]
  },
  {
   "cell_type": "code",
   "execution_count": 7,
   "metadata": {},
   "outputs": [],
   "source": [
    "#Método para calcular as principais métricas dos classificadores\n",
    "def calc_important_metrics(y_val, y_pred):    \n",
    "    classes = [\"Confirmed\", \"False Positive\"]\n",
    "    print(metrics.classification_report(y_val, y_pred, [0, 1], classes))    "
   ]
  },
  {
   "cell_type": "code",
   "execution_count": 8,
   "metadata": {},
   "outputs": [],
   "source": [
    "#Método para plotar a curva ROC\n",
    "def calc_roc(y_val, y_proba):\n",
    "    fpr, tpr, _ = metrics.roc_curve(y_val, y_proba)\n",
    "\n",
    "    plt.figure(figsize=(6, 6))\n",
    "    lw = 2\n",
    "    plt.plot(fpr, tpr, color='royalblue',lw=2)\n",
    "    plt.plot([0, 1], [0, 1], color='Black', lw=2, ls='--')\n",
    "    plt.xlim([0.0, 1.0])\n",
    "    plt.ylim([0.0, 1.05])\n",
    "    plt.xlabel('False Positive Rate')\n",
    "    plt.ylabel('True Positive Rate')\n",
    "    plt.title('Curva ROC')\n",
    "    plt.show()"
   ]
  },
  {
   "cell_type": "code",
   "execution_count": 39,
   "metadata": {},
   "outputs": [],
   "source": [
    "#Plota o gráfico da acurácia no treino x acurácia na validação\n",
    "def plot_accuracyXparams(vX, vYTrain, xYtest, label, xticks = []):    \n",
    "    plt.plot(vX, vYTrain, 'r--', label=\"train\")\n",
    "    plt.plot(vX, xYtest, color='royalblue',lw=2, label=\"validation\")\n",
    "    plt.xlabel(label)\n",
    "    plt.ylabel('Accuracy')\n",
    "    plt.title('Parameters x Accuracy')\n",
    "    plt.legend(loc='upper left')\n",
    "    \n",
    "    if(len(xticks) > 0):\n",
    "        plt.xticks(vX, (xticks[0], xticks[1], xticks[2], xticks[3]))\n",
    "        \n",
    "    plt.show()    "
   ]
  },
  {
   "cell_type": "code",
   "execution_count": 10,
   "metadata": {},
   "outputs": [],
   "source": [
    "def show_results(clf):       \n",
    "    y_pred = []\n",
    "    y_proba = []\n",
    "    y_val = []\n",
    "\n",
    "#Obtêm todos os valores da validação de cada FOLD para calcular as métricas\n",
    "    for i in range(0, K_FOLD):   \n",
    "        y_pred.extend(clf.predict(x_validation[i]))\n",
    "        y_proba.extend(clf.predict_proba(x_validation[i])[:, 1])\n",
    "        y_val.extend(y_validation[i])\n",
    "    \n",
    "    #Plotando resultados            \n",
    "    calc_important_metrics(y_val, y_pred)\n",
    "    calc_roc(y_val, y_proba)"
   ]
  },
  {
   "cell_type": "markdown",
   "metadata": {},
   "source": [
    "## Resultados\n",
    "\n",
    "Nesta etapa serão apresentados os resultados dos classificadores na tarefa de classificar os exoplanetas. Vale ressaltar que foi utilizado validação cruzada de 5 folds/partições. Além do mais, foram plotados gráficos apenas para os melhores parâmetros de cada algoritmo. Em cada seção é abordada um algoritmo em especial, onde são apressentados os resultados e os gráficos. Por fim, no resultado é feito um resumo geral dos resultados."
   ]
  },
  {
   "cell_type": "markdown",
   "metadata": {},
   "source": [
    "## 1 - Naive Bayes\n",
    "\n",
    "O algoritmo Naive Bayes é o algoritmo mais simples abordado no trabalho, sendo utilizado como baseline no trabalho. Abaixo temos os resultados. De maneira geral, o algoritmo apresentou uma acurácia de 79%. Como o algoritmo é não parâmetrico, não foram variados parâmetros."
   ]
  },
  {
   "cell_type": "code",
   "execution_count": 11,
   "metadata": {},
   "outputs": [],
   "source": [
    "def calc_naivebayes():\n",
    "    train_acc = []\n",
    "    val_acc = []\n",
    "            \n",
    "    gnb = GaussianNB()\n",
    "    \n",
    "    for i in range(0, K_FOLD):            \n",
    "        gnb = gnb.fit(x_train[i], y_train[i]) #Treino\n",
    "        train_acc.append(gnb.score(x_train[i], y_train[i]))\n",
    "        val_acc.append(gnb.score(x_validation[i], y_validation[i]))      \n",
    "          \n",
    "    print(\"Média da Acurácia na treino: {:.3}\".format(np.average(train_acc)))\n",
    "    print(\"Média da Acurácia na validação: {:.3}\".format(np.average(val_acc)))\n",
    "    print(\"Desvio Padrão da Acurácia na treino: {:.3}\".format(statistics.stdev(train_acc)))\n",
    "    print(\"Desvio Padrão da Acurácia na validação: {:.3}\".format(statistics.stdev(val_acc)))      \n",
    "    \n",
    "    return gnb"
   ]
  },
  {
   "cell_type": "code",
   "execution_count": 12,
   "metadata": {
    "scrolled": false
   },
   "outputs": [
    {
     "name": "stdout",
     "output_type": "stream",
     "text": [
      "Média da Acurácia na treino: 0.798\n",
      "Média da Acurácia na validação: 0.797\n",
      "Desvio Padrão da Acurácia na treino: 0.00384\n",
      "Desvio Padrão da Acurácia na validação: 0.0163\n"
     ]
    }
   ],
   "source": [
    "gnb = calc_naivebayes()"
   ]
  },
  {
   "cell_type": "markdown",
   "metadata": {},
   "source": [
    "**1.1 - Gráficos - Naive Bayes**"
   ]
  },
  {
   "cell_type": "code",
   "execution_count": 13,
   "metadata": {},
   "outputs": [
    {
     "name": "stdout",
     "output_type": "stream",
     "text": [
      "                precision    recall  f1-score   support\n",
      "\n",
      "     Confirmed       0.97      0.69      0.81      3098\n",
      "False Positive       0.68      0.97      0.80      2104\n",
      "\n",
      "     micro avg       0.80      0.80      0.80      5202\n",
      "     macro avg       0.83      0.83      0.80      5202\n",
      "  weighted avg       0.85      0.80      0.80      5202\n",
      "\n"
     ]
    },
    {
     "data": {
      "image/png": "[encoded data removed]",
      "text/plain": [
       "<Figure size 432x432 with 1 Axes>"
      ]
     },
     "metadata": {
      "needs_background": "light"
     },
     "output_type": "display_data"
    }
   ],
   "source": [
    "#Exibindo detalhes graficamente\n",
    "show_results(gnb)"
   ]
  },
  {
   "cell_type": "markdown",
   "metadata": {},
   "source": [
    "## 2 - Decision Tree\n",
    "\n",
    "Neste algoritmo foram variados parâmetros relacionados a altura da árvore, 30, 10, 8 e 5, respectivamente. Ao realizar as variações, observou-se que, ao diminuir a profundidade máxima da árvore a acurácia aumenta. Isso ocorre pois, uma árvore muito extensa acaba decorando os dados de treino, logo, na validação, o resultado não é tão bom quanto no treino (overfitting). Os gráficos abaixo exibem a variação da acurácia com base nas variações.\n",
    "\n",
    "De maneira geral:\n",
    "- O algoritmo apresentou uma boa precisão para o problema, alcançando uma acurácia de 95,5%\n",
    "- Foi variado a altura da árvore. O melhor parâmetro foi: 5 graus de profundidade máxima. Ao observar o último gráfico, observa-se que selecionado a altura 5, o algoritmo apresenta uma taxa de acerto aceitavel no treino e uma boa taxa no teste. Isso confirma que nesse ponto, o algoritmo estava generalizando. A partir desse valor a precisão na validação diminui e aumenta apenas no treino."
   ]
  },
  {
   "cell_type": "code",
   "execution_count": 14,
   "metadata": {},
   "outputs": [],
   "source": [
    "def calc_decision_tree(max_depth):\n",
    "    train_acc = []\n",
    "    val_acc = []\n",
    "    \n",
    "    clf = DecisionTreeClassifier(max_depth=max_depth)\n",
    "    \n",
    "    for i in range(0, K_FOLD):          \n",
    "        clf = clf.fit(x_train[i], y_train[i])  \n",
    "        train_acc.append(clf.score(x_train[i], y_train[i]))\n",
    "        val_acc.append(clf.score(x_validation[i], y_validation[i]))        \n",
    "\n",
    "    print(\"Média da Acurácia na treino: {:.3}\".format(np.average(train_acc)))\n",
    "    print(\"Média da Acurácia na validação: {:.3}\".format(np.average(val_acc)))\n",
    "    print(\"Desvio Padrão da Acurácia na treino: {:.3}\".format(statistics.stdev(train_acc)))\n",
    "    print(\"Desvio Padrão da Acurácia na validação: {:.3}\".format(statistics.stdev(val_acc)))\n",
    "    \n",
    "    return clf, np.average(train_acc), np.average(val_acc)"
   ]
  },
  {
   "cell_type": "markdown",
   "metadata": {},
   "source": [
    "**2.1 - Variando Parâmetros**"
   ]
  },
  {
   "cell_type": "code",
   "execution_count": 15,
   "metadata": {
    "scrolled": true
   },
   "outputs": [
    {
     "name": "stdout",
     "output_type": "stream",
     "text": [
      "Média da Acurácia na treino: 1.0\n",
      "Média da Acurácia na validação: 0.95\n",
      "Desvio Padrão da Acurácia na treino: 0.0\n",
      "Desvio Padrão da Acurácia na validação: 0.0101\n"
     ]
    }
   ],
   "source": [
    "v_decision_acc_train = []\n",
    "v_decision_acc_test = []\n",
    "\n",
    "clf, acc_train, acc_test = calc_decision_tree(30)\n",
    "v_decision_acc_train.append(acc_train)\n",
    "v_decision_acc_test.append(acc_test)"
   ]
  },
  {
   "cell_type": "code",
   "execution_count": 16,
   "metadata": {
    "scrolled": true
   },
   "outputs": [
    {
     "name": "stdout",
     "output_type": "stream",
     "text": [
      "Média da Acurácia na treino: 0.991\n",
      "Média da Acurácia na validação: 0.953\n",
      "Desvio Padrão da Acurácia na treino: 0.000771\n",
      "Desvio Padrão da Acurácia na validação: 0.00875\n"
     ]
    }
   ],
   "source": [
    "clf, acc_train, acc_test = calc_decision_tree(10)\n",
    "v_decision_acc_train.append(acc_train)\n",
    "v_decision_acc_test.append(acc_test)"
   ]
  },
  {
   "cell_type": "code",
   "execution_count": 17,
   "metadata": {},
   "outputs": [
    {
     "name": "stdout",
     "output_type": "stream",
     "text": [
      "Média da Acurácia na treino: 0.986\n",
      "Média da Acurácia na validação: 0.953\n",
      "Desvio Padrão da Acurácia na treino: 0.00212\n",
      "Desvio Padrão da Acurácia na validação: 0.00753\n"
     ]
    }
   ],
   "source": [
    "clf, acc_train, acc_test = calc_decision_tree(8)\n",
    "v_decision_acc_train.append(acc_train)\n",
    "v_decision_acc_test.append(acc_test)"
   ]
  },
  {
   "cell_type": "code",
   "execution_count": 18,
   "metadata": {
    "scrolled": false
   },
   "outputs": [
    {
     "name": "stdout",
     "output_type": "stream",
     "text": [
      "Média da Acurácia na treino: 0.965\n",
      "Média da Acurácia na validação: 0.953\n",
      "Desvio Padrão da Acurácia na treino: 0.00253\n",
      "Desvio Padrão da Acurácia na validação: 0.00542\n"
     ]
    }
   ],
   "source": [
    "clf, acc_train, acc_test = calc_decision_tree(5)\n",
    "v_decision_acc_train.append(acc_train)\n",
    "v_decision_acc_test.append(acc_test)"
   ]
  },
  {
   "cell_type": "markdown",
   "metadata": {},
   "source": [
    "**2.2 - Gráficos - Decision Tree**"
   ]
  },
  {
   "cell_type": "code",
   "execution_count": 21,
   "metadata": {
    "scrolled": true
   },
   "outputs": [
    {
     "name": "stdout",
     "output_type": "stream",
     "text": [
      "                precision    recall  f1-score   support\n",
      "\n",
      "     Confirmed       0.99      0.95      0.97      3098\n",
      "False Positive       0.93      0.98      0.95      2104\n",
      "\n",
      "     micro avg       0.96      0.96      0.96      5202\n",
      "     macro avg       0.96      0.96      0.96      5202\n",
      "  weighted avg       0.96      0.96      0.96      5202\n",
      "\n"
     ]
    },
    {
     "data": {
      "image/png": "[encoded data removed]",
      "text/plain": [
       "<Figure size 432x432 with 1 Axes>"
      ]
     },
     "metadata": {
      "needs_background": "light"
     },
     "output_type": "display_data"
    },
    {
     "data": {
      "image/png": "[encoded data removed]",
      "text/plain": [
       "<Figure size 432x288 with 1 Axes>"
      ]
     },
     "metadata": {
      "needs_background": "light"
     },
     "output_type": "display_data"
    }
   ],
   "source": [
    "show_results(clf)\n",
    "plot_accuracyXparams([30, 10, 8, 5], v_decision_acc_train, v_decision_acc_test, \"Depth\")"
   ]
  },
  {
   "cell_type": "markdown",
   "metadata": {},
   "source": [
    "## 3 - Support Vector Machine\n",
    "\n",
    "Neste algoritmo foi variado os parâmetros de kernel (sigmoid, poly, rbf, linear). O kernel no SVM é um dos principais parâmetros, que é responsável por transformar a distribuição dos dados para a classificação. Utilizando o kernel=linear alcançou-se a melhor acurácia. No último gráfico é possível observar a acurácia do SVM utilizando cada kernel. Um fato interessante é que diferente dos outros métodos, o SVM apresentou taxas semelhantes de acurácia tanto no treino e teste, indicando que o SVM não está \"decorando\" os dados, sendo possível generalizar com eficiência."
   ]
  },
  {
   "cell_type": "code",
   "execution_count": 27,
   "metadata": {},
   "outputs": [],
   "source": [
    "def calc_svm(kernel):\n",
    "    train_acc = []\n",
    "    val_acc = []\n",
    "    c = 1\n",
    "    clf = svm.SVC(c, kernel, gamma=\"scale\", probability=True)\n",
    "    \n",
    "    for i in range(0, K_FOLD):          \n",
    "        print(\"Fold \" + str(i))\n",
    "        clf = clf.fit(x_train[i], y_train[i])  \n",
    "        train_acc.append(clf.score(x_train[i], y_train[i]))\n",
    "        val_acc.append(clf.score(x_validation[i], y_validation[i]))\n",
    "   \n",
    "    print(\"Média da Acurácia na treino: {:.3}\".format(np.average(train_acc)))\n",
    "    print(\"Média da Acurácia na validação: {:.3}\".format(np.average(val_acc)))\n",
    "    print(\"Desvio Padrão da Acurácia na treino: {:.3}\".format(statistics.stdev(train_acc)))\n",
    "    print(\"Desvio Padrão da Acurácia na validação: {:.3}\".format(statistics.stdev(val_acc)))   \n",
    "    \n",
    "    return clf, np.average(train_acc), np.average(val_acc)"
   ]
  },
  {
   "cell_type": "markdown",
   "metadata": {},
   "source": [
    "**3.1 - Parâmetros**"
   ]
  },
  {
   "cell_type": "code",
   "execution_count": 23,
   "metadata": {},
   "outputs": [
    {
     "name": "stdout",
     "output_type": "stream",
     "text": [
      "Fold 0\n",
      "Fold 1\n",
      "Fold 2\n",
      "Fold 3\n",
      "Fold 4\n",
      "Média da Acurácia na treino: 0.552\n",
      "Média da Acurácia na validação: 0.553\n",
      "Desvio Padrão da Acurácia na treino: 0.00319\n",
      "Desvio Padrão da Acurácia na validação: 0.0136\n"
     ]
    }
   ],
   "source": [
    "v_svm_acc_train = []\n",
    "v_svm_acc_test = []\n",
    "\n",
    "clf, acc_train, acc_test = calc_svm(\"sigmoid\")\n",
    "v_svm_acc_train.append(acc_train)\n",
    "v_svm_acc_test.append(acc_test)"
   ]
  },
  {
   "cell_type": "code",
   "execution_count": 24,
   "metadata": {},
   "outputs": [
    {
     "name": "stdout",
     "output_type": "stream",
     "text": [
      "Fold 0\n",
      "Fold 1\n",
      "Fold 2\n",
      "Fold 3\n",
      "Fold 4\n",
      "Média da Acurácia na treino: 0.596\n",
      "Média da Acurácia na validação: 0.596\n",
      "Desvio Padrão da Acurácia na treino: 5.25e-05\n",
      "Desvio Padrão da Acurácia na validação: 0.00021\n"
     ]
    }
   ],
   "source": [
    "clf, acc_train, acc_test = calc_svm(\"poly\")\n",
    "v_svm_acc_train.append(acc_train)\n",
    "v_svm_acc_test.append(acc_test)"
   ]
  },
  {
   "cell_type": "code",
   "execution_count": 29,
   "metadata": {
    "scrolled": true
   },
   "outputs": [
    {
     "name": "stdout",
     "output_type": "stream",
     "text": [
      "Fold 0\n",
      "Fold 1\n",
      "Fold 2\n",
      "Fold 3\n",
      "Fold 4\n",
      "Média da Acurácia na treino: 0.682\n",
      "Média da Acurácia na validação: 0.681\n",
      "Desvio Padrão da Acurácia na treino: 0.00344\n",
      "Desvio Padrão da Acurácia na validação: 0.00832\n"
     ]
    }
   ],
   "source": [
    "clf, acc_train, acc_test = calc_svm(\"rbf\")\n",
    "v_svm_acc_train.append(acc_train)\n",
    "v_svm_acc_test.append(acc_test)"
   ]
  },
  {
   "cell_type": "code",
   "execution_count": null,
   "metadata": {},
   "outputs": [
    {
     "name": "stdout",
     "output_type": "stream",
     "text": [
      "Fold 0\n"
     ]
    }
   ],
   "source": [
    "clf, acc_train, acc_test = calc_svm(\"linear\")\n",
    "v_svm_acc_train.append(acc_train)\n",
    "v_svm_acc_test.append(acc_test)"
   ]
  },
  {
   "cell_type": "code",
   "execution_count": 38,
   "metadata": {},
   "outputs": [
    {
     "name": "stdout",
     "output_type": "stream",
     "text": [
      "                precision    recall  f1-score   support\n",
      "\n",
      "     Confirmed       0.93      0.51      0.66      3098\n",
      "False Positive       0.57      0.94      0.71      2104\n",
      "\n",
      "     micro avg       0.69      0.69      0.69      5202\n",
      "     macro avg       0.75      0.73      0.69      5202\n",
      "  weighted avg       0.78      0.69      0.68      5202\n",
      "\n"
     ]
    },
    {
     "data": {
      "image/png": "[encoded data removed]",
      "text/plain": [
       "<Figure size 432x432 with 1 Axes>"
      ]
     },
     "metadata": {
      "needs_background": "light"
     },
     "output_type": "display_data"
    },
    {
     "data": {
      "image/png": "[encoded data removed]",
      "text/plain": [
       "<Figure size 432x288 with 1 Axes>"
      ]
     },
     "metadata": {
      "needs_background": "light"
     },
     "output_type": "display_data"
    }
   ],
   "source": [
    "show_results(clf)\n",
    "plot_accuracyXparams([1, 2, 3, 4], v_svm_acc_train, v_svm_acc_test, \"Kernel\", [\"sigmoid\", \"poly\", \"rbf\", \"linear\"])"
   ]
  },
  {
   "cell_type": "markdown",
   "metadata": {},
   "source": [
    "## 4 - k-NN\n",
    "\n",
    "Neste algoritmo foi variado a quantidade de vizinhos, ou seja, a quantidade de vizinhos necessários para classificar um ponto para uma classe ou não. De maneira geral: \n",
    "\n",
    "- O algoritmo apresentou uma precisão máxima de 78,9%.\n",
    "- Ao aumentar a quantidade de vizinhos a precisão foi aumentando. A melhor escolha foi de 30.\n",
    "- É possível observar nos gráficos que ao aumentar a variável (k), ou seja, a quantidade de vizinhos, a precisão no treino diminui, mas em compensação a precisão no teste aumenta. Isso estabiliza com k = 10, mas a partir de k= 30 o valor a precisão na validação e no treino se aproxima, isso é um bom sinal de que o algoritmo não está decorando os dados, sendo possível generalizar. Por isso a escolha desse valor."
   ]
  },
  {
   "cell_type": "code",
   "execution_count": 21,
   "metadata": {},
   "outputs": [],
   "source": [
    "def calc_k_nn(k): \n",
    "    train_acc = []\n",
    "    val_acc = []\n",
    "    \n",
    "    print(\"K = {}\".format(k))             \n",
    "    clf = neighbors.KNeighborsClassifier(n_neighbors=k) \n",
    "    \n",
    "    for i in range(0, K_FOLD):          \n",
    "        clf = clf.fit(x_train[i], y_train[i])  \n",
    "        train_acc.append(clf.score(x_train[i], y_train[i]))\n",
    "        val_acc.append(clf.score(x_validation[i], y_validation[i]))\n",
    "\n",
    "    print(\"Média da Acurácia na treino: {:.3}\".format(np.average(train_acc)))\n",
    "    print(\"Média da Acurácia na validação: {:.3}\".format(np.average(val_acc)))\n",
    "    print(\"Desvio Padrão da Acurácia na treino: {:.3}\".format(statistics.stdev(train_acc)))\n",
    "    print(\"Desvio Padrão da Acurácia na validação: {:.3}\".format(statistics.stdev(val_acc))) \n",
    "    \n",
    "    return clf, np.average(train_acc), np.average(val_acc)"
   ]
  },
  {
   "cell_type": "markdown",
   "metadata": {},
   "source": [
    "**4.1 - Variando Parâmetros**"
   ]
  },
  {
   "cell_type": "code",
   "execution_count": 22,
   "metadata": {
    "scrolled": false
   },
   "outputs": [
    {
     "name": "stdout",
     "output_type": "stream",
     "text": [
      "K = 5\n",
      "Média da Acurácia na treino: 0.846\n",
      "Média da Acurácia na validação: 0.783\n",
      "Desvio Padrão da Acurácia na treino: 0.00419\n",
      "Desvio Padrão da Acurácia na validação: 0.015\n"
     ]
    }
   ],
   "source": [
    "v_knn_acc_train = []\n",
    "v_knn_acc_test = []\n",
    "\n",
    "clf, acc_train, acc_test = calc_k_nn(5)\n",
    "v_knn_acc_train.append(acc_train)\n",
    "v_knn_acc_test.append(acc_test)"
   ]
  },
  {
   "cell_type": "code",
   "execution_count": 23,
   "metadata": {
    "scrolled": true
   },
   "outputs": [
    {
     "name": "stdout",
     "output_type": "stream",
     "text": [
      "K = 10\n",
      "Média da Acurácia na treino: 0.826\n",
      "Média da Acurácia na validação: 0.788\n",
      "Desvio Padrão da Acurácia na treino: 0.00253\n",
      "Desvio Padrão da Acurácia na validação: 0.0156\n"
     ]
    }
   ],
   "source": [
    "clf, acc_train, acc_test = calc_k_nn(10)\n",
    "v_knn_acc_train.append(acc_train)\n",
    "v_knn_acc_test.append(acc_test)"
   ]
  },
  {
   "cell_type": "code",
   "execution_count": 40,
   "metadata": {
    "scrolled": false
   },
   "outputs": [
    {
     "name": "stdout",
     "output_type": "stream",
     "text": [
      "K = 30\n",
      "Média da Acurácia na treino: 0.799\n",
      "Média da Acurácia na validação: 0.789\n",
      "Desvio Padrão da Acurácia na treino: 0.00314\n",
      "Desvio Padrão da Acurácia na validação: 0.0124\n"
     ]
    }
   ],
   "source": [
    "clf, acc_train, acc_test = calc_k_nn(30)\n",
    "v_knn_acc_train.append(acc_train)\n",
    "v_knn_acc_test.append(acc_test)"
   ]
  },
  {
   "cell_type": "markdown",
   "metadata": {},
   "source": [
    "**4.2 - Gráficos - k-NN**"
   ]
  },
  {
   "cell_type": "code",
   "execution_count": 25,
   "metadata": {},
   "outputs": [
    {
     "name": "stdout",
     "output_type": "stream",
     "text": [
      "                precision    recall  f1-score   support\n",
      "\n",
      "     Confirmed       0.86      0.78      0.82      3098\n",
      "False Positive       0.72      0.82      0.77      2104\n",
      "\n",
      "     micro avg       0.80      0.80      0.80      5202\n",
      "     macro avg       0.79      0.80      0.79      5202\n",
      "  weighted avg       0.81      0.80      0.80      5202\n",
      "\n"
     ]
    },
    {
     "data": {
      "image/png": "[encoded data removed]",
      "text/plain": [
       "<Figure size 432x432 with 1 Axes>"
      ]
     },
     "metadata": {
      "needs_background": "light"
     },
     "output_type": "display_data"
    },
    {
     "data": {
      "image/png": "[encoded data removed]",
      "text/plain": [
       "<Figure size 432x288 with 1 Axes>"
      ]
     },
     "metadata": {
      "needs_background": "light"
     },
     "output_type": "display_data"
    }
   ],
   "source": [
    "show_results(clf)\n",
    "plot_accuracyXparams([5, 10, 30], v_knn_acc_train, v_knn_acc_test, \"Neighbors\")"
   ]
  },
  {
   "cell_type": "markdown",
   "metadata": {},
   "source": [
    "## 5 - Random Forest\n",
    "\n",
    "Neste algoritmo foram variados os parâmetros de: quantidade de árvores e tamanho máximo da árvore. De maneira geral, o algoritmo apresentou uma boa precisão de 96%.\n",
    "\n",
    "De maneira geral:\n",
    "\n",
    "- Os parâmetros: n_estimators=10, max_depth=10, foram os melhores. Max_depth está relacionado com o tamanho máximo de cada árvore do modelo random forest. É importante sempre escolher um tamanho em que o algoritmo não decore os dados. Já n_estimators está relacionado com a quantidade de árvores do modelo. Por fim, teremos um modelo com 10 árvores com no máximo uma altura de 10.\n",
    "- É interessante notar que se utilizarmos uma maior quantidade de árvores o algoritmo atinge uma precisão maior que 96%, mas em contrapartida, o modelo em vez de generalizar, decora o dado. Isso não é bom. Por isso, foi escolhido parâmetros com menos precisão, mas que não decora os dados. No último gráfico é possível observar essa variação.\n",
    "- Além disto, o random forest demonstra ser um bom classificador, ao observar a curva ROC."
   ]
  },
  {
   "cell_type": "code",
   "execution_count": 26,
   "metadata": {},
   "outputs": [],
   "source": [
    "def calc_randomforest(N, max_depth):\n",
    "    train_acc = []\n",
    "    val_acc = []\n",
    "    \n",
    "    clf = ensemble.RandomForestClassifier(n_estimators=N, max_depth=max_depth)\n",
    "    \n",
    "    for i in range(0, K_FOLD):          \n",
    "        clf = clf.fit(x_train[i], y_train[i])  \n",
    "        train_acc.append(clf.score(x_train[i], y_train[i]))\n",
    "        val_acc.append(clf.score(x_validation[i], y_validation[i]))        \n",
    "\n",
    "    print(\"Média da Acurácia na treino: {:.3}\".format(np.average(train_acc)))\n",
    "    print(\"Média da Acurácia na validação: {:.3}\".format(np.average(val_acc)))\n",
    "    print(\"Desvio Padrão da Acurácia na treino: {:.3}\".format(statistics.stdev(train_acc)))\n",
    "    print(\"Desvio Padrão da Acurácia na validação: {:.3}\".format(statistics.stdev(val_acc)))\n",
    "        \n",
    "    return clf, np.average(train_acc), np.average(val_acc)"
   ]
  },
  {
   "cell_type": "markdown",
   "metadata": {},
   "source": [
    "**5.1 - Variando Parâmetros**"
   ]
  },
  {
   "cell_type": "code",
   "execution_count": 27,
   "metadata": {
    "scrolled": true
   },
   "outputs": [
    {
     "name": "stdout",
     "output_type": "stream",
     "text": [
      "Média da Acurácia na treino: 1.0\n",
      "Média da Acurácia na validação: 0.97\n",
      "Desvio Padrão da Acurácia na treino: 0.000107\n",
      "Desvio Padrão da Acurácia na validação: 0.00398\n"
     ]
    }
   ],
   "source": [
    "v_random_acc_train = []\n",
    "v_random_acc_test = []\n",
    "\n",
    "clf, acc_train, acc_test = calc_randomforest(50, None)\n",
    "v_random_acc_train.append(acc_train)\n",
    "v_random_acc_test.append(acc_test)"
   ]
  },
  {
   "cell_type": "code",
   "execution_count": 28,
   "metadata": {
    "scrolled": true
   },
   "outputs": [
    {
     "name": "stdout",
     "output_type": "stream",
     "text": [
      "Média da Acurácia na treino: 0.991\n",
      "Média da Acurácia na validação: 0.967\n",
      "Desvio Padrão da Acurácia na treino: 0.000844\n",
      "Desvio Padrão da Acurácia na validação: 0.00497\n"
     ]
    }
   ],
   "source": [
    "clf, acc_train, acc_test = calc_randomforest(25, 10)\n",
    "v_random_acc_train.append(acc_train)\n",
    "v_random_acc_test.append(acc_test)"
   ]
  },
  {
   "cell_type": "code",
   "execution_count": 29,
   "metadata": {
    "scrolled": false
   },
   "outputs": [
    {
     "name": "stdout",
     "output_type": "stream",
     "text": [
      "Média da Acurácia na treino: 0.989\n",
      "Média da Acurácia na validação: 0.963\n",
      "Desvio Padrão da Acurácia na treino: 0.00121\n",
      "Desvio Padrão da Acurácia na validação: 0.00753\n"
     ]
    }
   ],
   "source": [
    "clf, acc_train, acc_test = calc_randomforest(10, 10)\n",
    "v_random_acc_train.append(acc_train)\n",
    "v_random_acc_test.append(acc_test)"
   ]
  },
  {
   "cell_type": "markdown",
   "metadata": {},
   "source": [
    "**5.2 - Gráficos**"
   ]
  },
  {
   "cell_type": "code",
   "execution_count": 30,
   "metadata": {},
   "outputs": [
    {
     "name": "stdout",
     "output_type": "stream",
     "text": [
      "                precision    recall  f1-score   support\n",
      "\n",
      "     Confirmed       0.99      0.98      0.99      3098\n",
      "False Positive       0.97      0.99      0.98      2104\n",
      "\n",
      "     micro avg       0.98      0.98      0.98      5202\n",
      "     macro avg       0.98      0.98      0.98      5202\n",
      "  weighted avg       0.98      0.98      0.98      5202\n",
      "\n"
     ]
    },
    {
     "data": {
      "image/png": "[encoded data removed]",
      "text/plain": [
       "<Figure size 432x432 with 1 Axes>"
      ]
     },
     "metadata": {
      "needs_background": "light"
     },
     "output_type": "display_data"
    },
    {
     "data": {
      "image/png": "[encoded data removed]",
      "text/plain": [
       "<Figure size 432x288 with 1 Axes>"
      ]
     },
     "metadata": {
      "needs_background": "light"
     },
     "output_type": "display_data"
    }
   ],
   "source": [
    "show_results(clf)\n",
    "plot_accuracyXparams([50, 25, 10], v_random_acc_train, v_random_acc_test, \"Number Tree\")"
   ]
  },
  {
   "cell_type": "markdown",
   "metadata": {},
   "source": [
    "## 6 - Gradiente Tree Boosting\n",
    "\n",
    "Neste algoritmo, variou-se o parâmetro de iteração (n_estimators). De maneira geral, o algoritmo apresentou um excelente resultado 96,4% de acurácia. O melhor parâmetro para o algoritmo foi: n_estimators = 30. Esse parâmetro significa a quantidade de árvores incluídas no modelo, ou seja, a quantidade de iterações, onde cada árvore é responsável pelos dados que o anterior errou, assim construíndo um modelo eficiente.\n",
    "\n",
    "No último gráfico, é possível observar que apartir de n_estimators = 30, a precisão na validação não cresce de maneira significativa. Apenas a validação no treino aumenta, ou seja, começa o overfitting. Assim, escolheu-se 30 como melhor parâmetro, que é o momento em que o algoritmo apresenta uma boa taxa de acerto na validação e não está decorando os dados."
   ]
  },
  {
   "cell_type": "code",
   "execution_count": 31,
   "metadata": {},
   "outputs": [],
   "source": [
    "def calc_gradient_tree_boosting(n_estimators):\n",
    "    train_acc = []\n",
    "    val_acc = []\n",
    "    \n",
    "    clf = clf = ensemble.GradientBoostingClassifier(n_estimators=n_estimators)\n",
    "    \n",
    "    for i in range(0, K_FOLD):          \n",
    "        clf = clf.fit(x_train[i], y_train[i])  \n",
    "        train_acc.append(clf.score(x_train[i], y_train[i]))\n",
    "        val_acc.append(clf.score(x_validation[i], y_validation[i]))        \n",
    "\n",
    "    print(\"Média da Acurácia na treino: {:.3}\".format(np.average(train_acc)))\n",
    "    print(\"Média da Acurácia na validação: {:.3}\".format(np.average(val_acc)))\n",
    "    print(\"Desvio Padrão da Acurácia na treino: {:.3}\".format(statistics.stdev(train_acc)))\n",
    "    print(\"Desvio Padrão da Acurácia na validação: {:.3}\".format(statistics.stdev(val_acc)))\n",
    "    \n",
    "    return clf, np.average(train_acc), np.average(val_acc)"
   ]
  },
  {
   "cell_type": "markdown",
   "metadata": {},
   "source": [
    "**6.1 - Variando Parâmetros**"
   ]
  },
  {
   "cell_type": "code",
   "execution_count": 32,
   "metadata": {},
   "outputs": [
    {
     "name": "stdout",
     "output_type": "stream",
     "text": [
      "Média da Acurácia na treino: 0.948\n",
      "Média da Acurácia na validação: 0.943\n",
      "Desvio Padrão da Acurácia na treino: 0.00251\n",
      "Desvio Padrão da Acurácia na validação: 0.00826\n"
     ]
    }
   ],
   "source": [
    "v_boosting_train = []\n",
    "v_boosting_test = []\n",
    "\n",
    "clf, acc_train, acc_test = calc_gradient_tree_boosting(5)\n",
    "v_boosting_train.append(acc_train)\n",
    "v_boosting_test.append(acc_test)"
   ]
  },
  {
   "cell_type": "code",
   "execution_count": 33,
   "metadata": {
    "scrolled": false
   },
   "outputs": [
    {
     "name": "stdout",
     "output_type": "stream",
     "text": [
      "Média da Acurácia na treino: 0.962\n",
      "Média da Acurácia na validação: 0.957\n",
      "Desvio Padrão da Acurácia na treino: 0.002\n",
      "Desvio Padrão da Acurácia na validação: 0.00341\n"
     ]
    }
   ],
   "source": [
    "clf, acc_train, acc_test = calc_gradient_tree_boosting(15)\n",
    "v_boosting_train.append(acc_train)\n",
    "v_boosting_test.append(acc_test)"
   ]
  },
  {
   "cell_type": "code",
   "execution_count": 34,
   "metadata": {},
   "outputs": [
    {
     "name": "stdout",
     "output_type": "stream",
     "text": [
      "Média da Acurácia na treino: 0.971\n",
      "Média da Acurácia na validação: 0.964\n",
      "Desvio Padrão da Acurácia na treino: 0.00105\n",
      "Desvio Padrão da Acurácia na validação: 0.00398\n",
      "\n",
      "\n",
      "                precision    recall  f1-score   support\n",
      "\n",
      "     Confirmed       0.98      0.97      0.97      3098\n",
      "False Positive       0.96      0.97      0.96      2104\n",
      "\n",
      "     micro avg       0.97      0.97      0.97      5202\n",
      "     macro avg       0.97      0.97      0.97      5202\n",
      "  weighted avg       0.97      0.97      0.97      5202\n",
      "\n"
     ]
    },
    {
     "data": {
      "image/png": "[encoded data removed]",
      "text/plain": [
       "<Figure size 432x432 with 1 Axes>"
      ]
     },
     "metadata": {
      "needs_background": "light"
     },
     "output_type": "display_data"
    }
   ],
   "source": [
    "#Melhor parâmetro\n",
    "clf, acc_train, acc_test = calc_gradient_tree_boosting(30)\n",
    "v_boosting_train.append(acc_train)\n",
    "v_boosting_test.append(acc_test)\n",
    "print(\"\\n\")\n",
    "show_results(clf)"
   ]
  },
  {
   "cell_type": "code",
   "execution_count": 35,
   "metadata": {
    "scrolled": true
   },
   "outputs": [
    {
     "name": "stdout",
     "output_type": "stream",
     "text": [
      "Média da Acurácia na treino: 0.997\n",
      "Média da Acurácia na validação: 0.973\n",
      "Desvio Padrão da Acurácia na treino: 0.000274\n",
      "Desvio Padrão da Acurácia na validação: 0.00432\n"
     ]
    }
   ],
   "source": [
    "clf, acc_train, acc_test = calc_gradient_tree_boosting(200)\n",
    "v_boosting_train.append(acc_train)\n",
    "v_boosting_test.append(acc_test)"
   ]
  },
  {
   "cell_type": "markdown",
   "metadata": {},
   "source": [
    "**6.2 - Gráficos**"
   ]
  },
  {
   "cell_type": "code",
   "execution_count": 36,
   "metadata": {},
   "outputs": [
    {
     "data": {
      "image/png": "[encoded data removed]",
      "text/plain": [
       "<Figure size 432x288 with 1 Axes>"
      ]
     },
     "metadata": {
      "needs_background": "light"
     },
     "output_type": "display_data"
    }
   ],
   "source": [
    "plot_accuracyXparams([5, 15, 30, 200], v_boosting_train, v_boosting_test, \"Number Iteration\")"
   ]
  },
  {
   "cell_type": "markdown",
   "metadata": {},
   "source": [
    "## Conclusão"
   ]
  },
  {
   "cell_type": "markdown",
   "metadata": {},
   "source": [
    "Ao observar os resultados dos algoritmos, pode-se afirmar que de maneira geral, os algoritmos baseados em árvores de decisão apresentaram os melhores resultados (Gradiente Tree Boosting, Random Forest, Decision Tree). Abaixo segue o ranking dos algoritmos.\n",
    "\n",
    "\n",
    "- 1º - Gradiente Tree Boosting (96,4%) - (n_estimators=30)\n",
    "- 2º - Random Forest (96,3%) - (n_estimators=10, max_depth=10)\n",
    "- 3º - Decision Tree (95,5%) - (k=5)\n",
    "- 4º - SVM (kernel=)\n",
    "- 5º - Naive Bayes (79,9%)\n",
    "- 6º - k-NN (79%) - (n_neighbors=30)\n",
    "\n",
    "A definição dos melhores algoritmos considerou a acurácia no treino e no teste. Buscando selecionar os parâmetros que permitia que os algoritmos não decorar os dados no treino, ou seja, selecionando os modelos com precisão próxima tanto no treino quanto no teste. Ao observar a curva ROC de cada um, é possível observar que os baseados em árvore atingiram boas taxas de acurácia observando as taxas de falso positivo e true positivo."
   ]
  },
  {
   "cell_type": "markdown",
   "metadata": {},
   "source": [
    "**Gráfico da acurácia dos algoritmos com seus melhores parâmetros**"
   ]
  },
  {
   "cell_type": "code",
   "execution_count": null,
   "metadata": {
    "scrolled": false
   },
   "outputs": [],
   "source": [
    "fig, ax = plt.subplots(figsize=(9, 5))\n",
    "x = [0,1,2,3,4,5]\n",
    "plt.bar(x, [0.8, 0.955, 0.8, 0.789, 0.963, 0.964])\n",
    "plt.xticks(x, ('Naive Bayes', 'Decision Tree', 'SVM', 'k-NN', 'Random Forest', 'Tree Boosting'))\n",
    "plt.ylabel('Accuracy')\n",
    "plt.show()"
   ]
  }
 ],
 "metadata": {
  "kernelspec": {
   "display_name": "Python 3",
   "language": "python",
   "name": "python3"
  },
  "language_info": {
   "codemirror_mode": {
    "name": "ipython",
    "version": 3
   },
   "file_extension": ".py",
   "mimetype": "text/x-python",
   "name": "python",
   "nbconvert_exporter": "python",
   "pygments_lexer": "ipython3",
   "version": "3.7.3"
  }
 },
 "nbformat": 4,
 "nbformat_minor": 2
}
