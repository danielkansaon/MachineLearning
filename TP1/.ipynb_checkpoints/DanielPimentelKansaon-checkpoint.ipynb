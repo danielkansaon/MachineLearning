{
 "cells": [
  {
   "cell_type": "markdown",
   "metadata": {},
   "source": [
    "## UFMG - Trabalho Prático 1 - Machine Learning\n",
    "\n",
    "**Daniel Pimentel Kansaon**"
   ]
  },
  {
   "cell_type": "markdown",
   "metadata": {},
   "source": [
    "<h2> Introdução</h2>"
   ]
  },
  {
   "cell_type": "markdown",
   "metadata": {},
   "source": [
    "O trabalho consiste na aplicação de algoritmos supervisionados comparando ao todo 6 métodos:\n",
    "\n",
    "- **Naive Bayes**: Apenas um experimento para servir de baseline.\n",
    "- **Decision Tree**: Variar a altura máxima da árvore (incluindo permitir altura ilimitada) e mostrar os resultados graficamente.\n",
    "- **SVM**: Avaliar os kernels linear, sigmoid, polinomial e RBF.\n",
    "- **k-NN**: Variar o número k de vizinhos e mostrar os resultados graficamente.\n",
    "- **Random Forest**: Variar o número de árvores e mostrar os resultados graficamente.\n",
    "- **Gradient Tree Boosting**: Variar o número de iterações e mostrar os resultados graficamente.\n",
    "\n",
    "Os métodos serão testados em um problema de classificação binária (0 - 1) de candidatos a exoplanetas encontrados pela sonda espacial Kepler da NASA. Um exoplaneta é um planeta fora do sistema solar (i.e. que não orbita o sol). A sonda primeiro identifica sinais de possíıveis exoplanetas, chamados de Kepler Object of Interest (KOI). Porém nem todos os KOIs são de fato exoplanetas, alguns se tratam de \"Falsos Positivos\" de origens diversas. A tarefa é então classificar os KOIs entre exoplanetas\n",
    "confirmados e \"Falsos Positivos\". Cada observação corresponde a um KOI e as features são características estimadas de cada (possível) exoplaneta (tamanho, temperatura, features da estrela hospedeira, etc)."
   ]
  },
  {
   "cell_type": "code",
   "execution_count": 1,
   "metadata": {},
   "outputs": [],
   "source": [
    "#Adicionando as referências que serão usadas durante o trabalho\n",
    "import pandas as pd\n",
    "import numpy as np\n",
    "import random\n",
    "\n",
    "from sklearn.model_selection import StratifiedKFold\n",
    "from sklearn import feature_selection\n",
    "import matplotlib.pyplot as plt\n",
    "from sklearn import metrics\n",
    "import matplotlib as mpl\n",
    "import statistics\n",
    "import multiprocessing\n",
    "\n",
    "#Metodos\n",
    "from sklearn import svm\n",
    "from sklearn import neighbors #K-nn\n",
    "from sklearn import ensemble #Random Forest\n",
    "from sklearn.naive_bayes import GaussianNB #Naive Bayes\n",
    "from sklearn.naive_bayes import MultinomialNB #Naive Bayes\n",
    "from sklearn.tree import DecisionTreeClassifier #Decision Tree\n"
   ]
  },
  {
   "cell_type": "code",
   "execution_count": 2,
   "metadata": {},
   "outputs": [],
   "source": [
    "# As constantes do projeto estão adicionadas aqui.\n",
    "\n",
    "# Caminho arquivo com os dados\n",
    "FILE_PATH = \"koi_data.csv\"\n",
    "\n",
    "#Quantidade de folds que será utilizado para a etapa de Cross-Validation\n",
    "K_FOLD = 5\n",
    "\n",
    "#Coluna TARGET do arquivo CSV\n",
    "TARGET = \"koi_disposition\"\n",
    "\n",
    "#Coluna que possui o nome do KOI\n",
    "COLUMN_KOI = \"kepoi_name\""
   ]
  },
  {
   "cell_type": "markdown",
   "metadata": {},
   "source": [
    "## Tratamento nos Dados\n",
    "\n",
    "Como dito acima, cada observação realizada corresponde a um KOI e as features são características estimadas de cada (possível) exoplaneta (tamanho, temperatura, features da estrela hospedeira, etc).\n",
    "\n",
    "Assim, nesta etapa serão realizados processamentos dos dados a fim de prepará-los para a execução dos algoritmos."
   ]
  },
  {
   "cell_type": "code",
   "execution_count": 3,
   "metadata": {
    "scrolled": true
   },
   "outputs": [
    {
     "name": "stdout",
     "output_type": "stream",
     "text": [
      "Número de linhas: 5202\n",
      "Número de colunas: 43\n"
     ]
    }
   ],
   "source": [
    "df = pd.read_csv(FILE_PATH)\n",
    "\n",
    "# Imprime algumas informacoes basicas sobre os dados\n",
    "print(\"Número de linhas: {}\".format(df.shape[0]))\n",
    "print(\"Número de colunas: {}\".format(df.shape[1]))\n",
    "\n",
    "# Cria a lista de features com base nas colunas do arquivo CSV\n",
    "features = list(df.columns)\n",
    "\n",
    "#Remove a coluna target pois ela que está querendo prever.\n",
    "features.remove(TARGET)\n",
    "\n",
    "#Remove a coluna de nome, pois não é necessária para a predição\n",
    "features.remove(COLUMN_KOI)"
   ]
  },
  {
   "cell_type": "markdown",
   "metadata": {},
   "source": [
    "## Ajustando o Target (rótulos dos dados)"
   ]
  },
  {
   "cell_type": "code",
   "execution_count": 4,
   "metadata": {
    "scrolled": false
   },
   "outputs": [
    {
     "data": {
      "text/html": [
       "<div>\n",
       "<style scoped>\n",
       "    .dataframe tbody tr th:only-of-type {\n",
       "        vertical-align: middle;\n",
       "    }\n",
       "\n",
       "    .dataframe tbody tr th {\n",
       "        vertical-align: top;\n",
       "    }\n",
       "\n",
       "    .dataframe thead th {\n",
       "        text-align: right;\n",
       "    }\n",
       "</style>\n",
       "<table border=\"1\" class=\"dataframe\">\n",
       "  <thead>\n",
       "    <tr style=\"text-align: right;\">\n",
       "      <th></th>\n",
       "      <th>FALSE POSITIVE</th>\n",
       "      <th>CONFIRMED</th>\n",
       "    </tr>\n",
       "  </thead>\n",
       "  <tbody>\n",
       "    <tr>\n",
       "      <th>koi_disposition (%)</th>\n",
       "      <td>59.55</td>\n",
       "      <td>40.45</td>\n",
       "    </tr>\n",
       "  </tbody>\n",
       "</table>\n",
       "</div>"
      ],
      "text/plain": [
       "                     FALSE POSITIVE  CONFIRMED\n",
       "koi_disposition (%)           59.55      40.45"
      ]
     },
     "metadata": {},
     "output_type": "display_data"
    }
   ],
   "source": [
    "#Porcentagem de [False Positive e Confirmed]\n",
    "display((df[TARGET].value_counts()/len(df)*100).round(2).to_frame(TARGET +\" (%)\").T)\n",
    "df[TARGET] = (df[TARGET] == \"CONFIRMED\").astype(int)"
   ]
  },
  {
   "cell_type": "markdown",
   "metadata": {},
   "source": [
    "## Normalizando os Dados\n",
    "\n",
    "Nesta etapa, será concentrado o esforço em analisar os dados visando a normalização."
   ]
  },
  {
   "cell_type": "markdown",
   "metadata": {},
   "source": [
    "**Observando os dados**\n",
    "\n",
    "Ao observar a tabela abaixo é possível notar que os valores possuem uma grande variação. Ou seja, alguns campos da tabela possuem um grande valor, já outros, um valor bem menor. Isso pode gerar alguns problemas nos algoritmos, fazendo com que a qualidade do modelo fique prejudicada. Se pensarmos por exemplo na ideia do backpropagation que utiliza o gradiente descendente para os cálculos, sem a normalização, a complexidade para encontrar o mínimo aumentaria, necessitando de mais iterações do que o normal. A principal ideia da normalização é eliminar ruídos deixando os dados mais uniformementes distribuídos. Como observado na tabela abaixo, é necessário normalizar os dados a fim de deixá-los mais uniformementes distribuídos. A decisão de normalzar se deu pela diferença consideravelmente grande dos valores da tabela.\n",
    "\n",
    "OBS: Para experiência, realizei o TP inicialmente sem a normalização. Com isso, observei que foi necessário um grande tempo para o treino do SVM, principalmente com kernel linear, com duração de mais de 4 horas. Após a normalização, foi possível executar em poucos minutos."
   ]
  },
  {
   "cell_type": "code",
   "execution_count": 5,
   "metadata": {
    "scrolled": true
   },
   "outputs": [
    {
     "name": "stdout",
     "output_type": "stream",
     "text": [
      "Dados:\n"
     ]
    },
    {
     "data": {
      "text/html": [
       "<div>\n",
       "<style scoped>\n",
       "    .dataframe tbody tr th:only-of-type {\n",
       "        vertical-align: middle;\n",
       "    }\n",
       "\n",
       "    .dataframe tbody tr th {\n",
       "        vertical-align: top;\n",
       "    }\n",
       "\n",
       "    .dataframe thead th {\n",
       "        text-align: right;\n",
       "    }\n",
       "</style>\n",
       "<table border=\"1\" class=\"dataframe\">\n",
       "  <thead>\n",
       "    <tr style=\"text-align: right;\">\n",
       "      <th></th>\n",
       "      <th>kepoi_name</th>\n",
       "      <th>koi_disposition</th>\n",
       "      <th>koi_period</th>\n",
       "      <th>koi_impact</th>\n",
       "      <th>koi_duration</th>\n",
       "      <th>koi_depth</th>\n",
       "      <th>...</th>\n",
       "      <th>koi_dicco_mra</th>\n",
       "      <th>koi_dicco_mdec</th>\n",
       "      <th>koi_dicco_msky</th>\n",
       "      <th>koi_dikco_mra</th>\n",
       "      <th>koi_dikco_mdec</th>\n",
       "      <th>koi_dikco_msky</th>\n",
       "    </tr>\n",
       "  </thead>\n",
       "  <tbody>\n",
       "    <tr>\n",
       "      <th>0</th>\n",
       "      <td>K00752.01</td>\n",
       "      <td>1</td>\n",
       "      <td>9.48804</td>\n",
       "      <td>0.146</td>\n",
       "      <td>2.95750</td>\n",
       "      <td>615.8</td>\n",
       "      <td>...</td>\n",
       "      <td>-0.010</td>\n",
       "      <td>0.200</td>\n",
       "      <td>0.200</td>\n",
       "      <td>0.080</td>\n",
       "      <td>0.310</td>\n",
       "      <td>0.320</td>\n",
       "    </tr>\n",
       "    <tr>\n",
       "      <th>1</th>\n",
       "      <td>K00752.02</td>\n",
       "      <td>1</td>\n",
       "      <td>54.41838</td>\n",
       "      <td>0.586</td>\n",
       "      <td>4.50700</td>\n",
       "      <td>874.8</td>\n",
       "      <td>...</td>\n",
       "      <td>0.390</td>\n",
       "      <td>0.000</td>\n",
       "      <td>0.390</td>\n",
       "      <td>0.490</td>\n",
       "      <td>0.120</td>\n",
       "      <td>0.500</td>\n",
       "    </tr>\n",
       "    <tr>\n",
       "      <th>2</th>\n",
       "      <td>K00754.01</td>\n",
       "      <td>0</td>\n",
       "      <td>1.73695</td>\n",
       "      <td>1.276</td>\n",
       "      <td>2.40641</td>\n",
       "      <td>8079.2</td>\n",
       "      <td>...</td>\n",
       "      <td>-0.249</td>\n",
       "      <td>0.147</td>\n",
       "      <td>0.289</td>\n",
       "      <td>-0.257</td>\n",
       "      <td>0.099</td>\n",
       "      <td>0.276</td>\n",
       "    </tr>\n",
       "    <tr>\n",
       "      <th>3</th>\n",
       "      <td>K00755.01</td>\n",
       "      <td>1</td>\n",
       "      <td>2.52559</td>\n",
       "      <td>0.701</td>\n",
       "      <td>1.65450</td>\n",
       "      <td>603.3</td>\n",
       "      <td>...</td>\n",
       "      <td>0.030</td>\n",
       "      <td>-0.090</td>\n",
       "      <td>0.100</td>\n",
       "      <td>0.070</td>\n",
       "      <td>0.020</td>\n",
       "      <td>0.070</td>\n",
       "    </tr>\n",
       "    <tr>\n",
       "      <th>4</th>\n",
       "      <td>K00114.01</td>\n",
       "      <td>0</td>\n",
       "      <td>7.36179</td>\n",
       "      <td>1.169</td>\n",
       "      <td>5.02200</td>\n",
       "      <td>233.7</td>\n",
       "      <td>...</td>\n",
       "      <td>-4.506</td>\n",
       "      <td>7.710</td>\n",
       "      <td>8.930</td>\n",
       "      <td>-4.537</td>\n",
       "      <td>7.713</td>\n",
       "      <td>8.948</td>\n",
       "    </tr>\n",
       "    <tr>\n",
       "      <th>5</th>\n",
       "      <td>K00757.01</td>\n",
       "      <td>1</td>\n",
       "      <td>16.06865</td>\n",
       "      <td>0.052</td>\n",
       "      <td>3.53470</td>\n",
       "      <td>4914.3</td>\n",
       "      <td>...</td>\n",
       "      <td>0.041</td>\n",
       "      <td>-0.015</td>\n",
       "      <td>0.044</td>\n",
       "      <td>0.005</td>\n",
       "      <td>0.030</td>\n",
       "      <td>0.031</td>\n",
       "    </tr>\n",
       "    <tr>\n",
       "      <th>6</th>\n",
       "      <td>K00001.01</td>\n",
       "      <td>1</td>\n",
       "      <td>2.47061</td>\n",
       "      <td>0.818</td>\n",
       "      <td>1.74319</td>\n",
       "      <td>14231.0</td>\n",
       "      <td>...</td>\n",
       "      <td>-0.009</td>\n",
       "      <td>-0.300</td>\n",
       "      <td>0.300</td>\n",
       "      <td>0.015</td>\n",
       "      <td>-0.270</td>\n",
       "      <td>0.270</td>\n",
       "    </tr>\n",
       "    <tr>\n",
       "      <th>7</th>\n",
       "      <td>K00010.01</td>\n",
       "      <td>1</td>\n",
       "      <td>3.52250</td>\n",
       "      <td>0.631</td>\n",
       "      <td>3.19843</td>\n",
       "      <td>9145.7</td>\n",
       "      <td>...</td>\n",
       "      <td>0.014</td>\n",
       "      <td>-0.013</td>\n",
       "      <td>0.020</td>\n",
       "      <td>-0.028</td>\n",
       "      <td>0.176</td>\n",
       "      <td>0.178</td>\n",
       "    </tr>\n",
       "    <tr>\n",
       "      <th>8</th>\n",
       "      <td>K00112.02</td>\n",
       "      <td>1</td>\n",
       "      <td>3.70921</td>\n",
       "      <td>0.051</td>\n",
       "      <td>2.63020</td>\n",
       "      <td>131.1</td>\n",
       "      <td>...</td>\n",
       "      <td>0.240</td>\n",
       "      <td>-0.150</td>\n",
       "      <td>0.290</td>\n",
       "      <td>0.160</td>\n",
       "      <td>-0.130</td>\n",
       "      <td>0.210</td>\n",
       "    </tr>\n",
       "    <tr>\n",
       "      <th>9</th>\n",
       "      <td>K00742.01</td>\n",
       "      <td>0</td>\n",
       "      <td>11.52145</td>\n",
       "      <td>2.483</td>\n",
       "      <td>3.63990</td>\n",
       "      <td>17984.0</td>\n",
       "      <td>...</td>\n",
       "      <td>0.009</td>\n",
       "      <td>-0.009</td>\n",
       "      <td>0.013</td>\n",
       "      <td>0.147</td>\n",
       "      <td>0.037</td>\n",
       "      <td>0.151</td>\n",
       "    </tr>\n",
       "    <tr>\n",
       "      <th>10</th>\n",
       "      <td>K00743.01</td>\n",
       "      <td>0</td>\n",
       "      <td>19.40394</td>\n",
       "      <td>0.804</td>\n",
       "      <td>12.21550</td>\n",
       "      <td>8918.7</td>\n",
       "      <td>...</td>\n",
       "      <td>-0.001</td>\n",
       "      <td>0.009</td>\n",
       "      <td>0.009</td>\n",
       "      <td>-0.147</td>\n",
       "      <td>-0.038</td>\n",
       "      <td>0.152</td>\n",
       "    </tr>\n",
       "    <tr>\n",
       "      <th>11</th>\n",
       "      <td>K00744.01</td>\n",
       "      <td>0</td>\n",
       "      <td>19.22139</td>\n",
       "      <td>1.065</td>\n",
       "      <td>4.79843</td>\n",
       "      <td>74284.0</td>\n",
       "      <td>...</td>\n",
       "      <td>0.003</td>\n",
       "      <td>0.005</td>\n",
       "      <td>0.006</td>\n",
       "      <td>-0.018</td>\n",
       "      <td>-0.203</td>\n",
       "      <td>0.203</td>\n",
       "    </tr>\n",
       "    <tr>\n",
       "      <th>12</th>\n",
       "      <td>K00745.01</td>\n",
       "      <td>0</td>\n",
       "      <td>16.46984</td>\n",
       "      <td>0.292</td>\n",
       "      <td>9.43780</td>\n",
       "      <td>10479.0</td>\n",
       "      <td>...</td>\n",
       "      <td>-0.040</td>\n",
       "      <td>-0.004</td>\n",
       "      <td>0.040</td>\n",
       "      <td>0.017</td>\n",
       "      <td>0.001</td>\n",
       "      <td>0.017</td>\n",
       "    </tr>\n",
       "    <tr>\n",
       "      <th>13</th>\n",
       "      <td>K00746.01</td>\n",
       "      <td>1</td>\n",
       "      <td>9.27358</td>\n",
       "      <td>0.387</td>\n",
       "      <td>3.28750</td>\n",
       "      <td>1288.3</td>\n",
       "      <td>...</td>\n",
       "      <td>-0.059</td>\n",
       "      <td>-0.008</td>\n",
       "      <td>0.059</td>\n",
       "      <td>0.042</td>\n",
       "      <td>0.344</td>\n",
       "      <td>0.346</td>\n",
       "    </tr>\n",
       "    <tr>\n",
       "      <th>14</th>\n",
       "      <td>K00747.01</td>\n",
       "      <td>1</td>\n",
       "      <td>6.02930</td>\n",
       "      <td>0.258</td>\n",
       "      <td>1.58210</td>\n",
       "      <td>1912.7</td>\n",
       "      <td>...</td>\n",
       "      <td>0.110</td>\n",
       "      <td>0.010</td>\n",
       "      <td>0.110</td>\n",
       "      <td>-0.190</td>\n",
       "      <td>-0.240</td>\n",
       "      <td>0.300</td>\n",
       "    </tr>\n",
       "    <tr>\n",
       "      <th>15</th>\n",
       "      <td>K00748.01</td>\n",
       "      <td>0</td>\n",
       "      <td>2.69637</td>\n",
       "      <td>0.044</td>\n",
       "      <td>3.61290</td>\n",
       "      <td>397.9</td>\n",
       "      <td>...</td>\n",
       "      <td>1.080</td>\n",
       "      <td>2.190</td>\n",
       "      <td>2.440</td>\n",
       "      <td>0.890</td>\n",
       "      <td>2.320</td>\n",
       "      <td>2.490</td>\n",
       "    </tr>\n",
       "    <tr>\n",
       "      <th>16</th>\n",
       "      <td>K00749.01</td>\n",
       "      <td>1</td>\n",
       "      <td>5.34955</td>\n",
       "      <td>0.092</td>\n",
       "      <td>3.02780</td>\n",
       "      <td>831.0</td>\n",
       "      <td>...</td>\n",
       "      <td>0.040</td>\n",
       "      <td>-0.020</td>\n",
       "      <td>0.040</td>\n",
       "      <td>-0.020</td>\n",
       "      <td>-0.030</td>\n",
       "      <td>0.040</td>\n",
       "    </tr>\n",
       "    <tr>\n",
       "      <th>17</th>\n",
       "      <td>K00749.02</td>\n",
       "      <td>1</td>\n",
       "      <td>3.94105</td>\n",
       "      <td>0.226</td>\n",
       "      <td>2.59840</td>\n",
       "      <td>363.3</td>\n",
       "      <td>...</td>\n",
       "      <td>-0.230</td>\n",
       "      <td>0.350</td>\n",
       "      <td>0.420</td>\n",
       "      <td>-0.240</td>\n",
       "      <td>0.340</td>\n",
       "      <td>0.420</td>\n",
       "    </tr>\n",
       "    <tr>\n",
       "      <th>18</th>\n",
       "      <td>K00749.03</td>\n",
       "      <td>1</td>\n",
       "      <td>8.10905</td>\n",
       "      <td>0.025</td>\n",
       "      <td>3.59600</td>\n",
       "      <td>217.4</td>\n",
       "      <td>...</td>\n",
       "      <td>-0.110</td>\n",
       "      <td>-0.140</td>\n",
       "      <td>0.180</td>\n",
       "      <td>-0.150</td>\n",
       "      <td>-0.150</td>\n",
       "      <td>0.220</td>\n",
       "    </tr>\n",
       "    <tr>\n",
       "      <th>19</th>\n",
       "      <td>K00750.01</td>\n",
       "      <td>1</td>\n",
       "      <td>21.67699</td>\n",
       "      <td>0.896</td>\n",
       "      <td>3.45550</td>\n",
       "      <td>857.2</td>\n",
       "      <td>...</td>\n",
       "      <td>-0.100</td>\n",
       "      <td>-0.040</td>\n",
       "      <td>0.110</td>\n",
       "      <td>-0.280</td>\n",
       "      <td>-0.230</td>\n",
       "      <td>0.360</td>\n",
       "    </tr>\n",
       "  </tbody>\n",
       "</table>\n",
       "<p>20 rows × 43 columns</p>\n",
       "</div>"
      ],
      "text/plain": [
       "   kepoi_name  koi_disposition  koi_period  koi_impact  koi_duration  \\\n",
       "0   K00752.01                1     9.48804       0.146       2.95750   \n",
       "1   K00752.02                1    54.41838       0.586       4.50700   \n",
       "2   K00754.01                0     1.73695       1.276       2.40641   \n",
       "3   K00755.01                1     2.52559       0.701       1.65450   \n",
       "4   K00114.01                0     7.36179       1.169       5.02200   \n",
       "5   K00757.01                1    16.06865       0.052       3.53470   \n",
       "6   K00001.01                1     2.47061       0.818       1.74319   \n",
       "7   K00010.01                1     3.52250       0.631       3.19843   \n",
       "8   K00112.02                1     3.70921       0.051       2.63020   \n",
       "9   K00742.01                0    11.52145       2.483       3.63990   \n",
       "10  K00743.01                0    19.40394       0.804      12.21550   \n",
       "11  K00744.01                0    19.22139       1.065       4.79843   \n",
       "12  K00745.01                0    16.46984       0.292       9.43780   \n",
       "13  K00746.01                1     9.27358       0.387       3.28750   \n",
       "14  K00747.01                1     6.02930       0.258       1.58210   \n",
       "15  K00748.01                0     2.69637       0.044       3.61290   \n",
       "16  K00749.01                1     5.34955       0.092       3.02780   \n",
       "17  K00749.02                1     3.94105       0.226       2.59840   \n",
       "18  K00749.03                1     8.10905       0.025       3.59600   \n",
       "19  K00750.01                1    21.67699       0.896       3.45550   \n",
       "\n",
       "    koi_depth  ...  koi_dicco_mra  koi_dicco_mdec  koi_dicco_msky  \\\n",
       "0       615.8  ...         -0.010           0.200           0.200   \n",
       "1       874.8  ...          0.390           0.000           0.390   \n",
       "2      8079.2  ...         -0.249           0.147           0.289   \n",
       "3       603.3  ...          0.030          -0.090           0.100   \n",
       "4       233.7  ...         -4.506           7.710           8.930   \n",
       "5      4914.3  ...          0.041          -0.015           0.044   \n",
       "6     14231.0  ...         -0.009          -0.300           0.300   \n",
       "7      9145.7  ...          0.014          -0.013           0.020   \n",
       "8       131.1  ...          0.240          -0.150           0.290   \n",
       "9     17984.0  ...          0.009          -0.009           0.013   \n",
       "10     8918.7  ...         -0.001           0.009           0.009   \n",
       "11    74284.0  ...          0.003           0.005           0.006   \n",
       "12    10479.0  ...         -0.040          -0.004           0.040   \n",
       "13     1288.3  ...         -0.059          -0.008           0.059   \n",
       "14     1912.7  ...          0.110           0.010           0.110   \n",
       "15      397.9  ...          1.080           2.190           2.440   \n",
       "16      831.0  ...          0.040          -0.020           0.040   \n",
       "17      363.3  ...         -0.230           0.350           0.420   \n",
       "18      217.4  ...         -0.110          -0.140           0.180   \n",
       "19      857.2  ...         -0.100          -0.040           0.110   \n",
       "\n",
       "    koi_dikco_mra  koi_dikco_mdec  koi_dikco_msky  \n",
       "0           0.080           0.310           0.320  \n",
       "1           0.490           0.120           0.500  \n",
       "2          -0.257           0.099           0.276  \n",
       "3           0.070           0.020           0.070  \n",
       "4          -4.537           7.713           8.948  \n",
       "5           0.005           0.030           0.031  \n",
       "6           0.015          -0.270           0.270  \n",
       "7          -0.028           0.176           0.178  \n",
       "8           0.160          -0.130           0.210  \n",
       "9           0.147           0.037           0.151  \n",
       "10         -0.147          -0.038           0.152  \n",
       "11         -0.018          -0.203           0.203  \n",
       "12          0.017           0.001           0.017  \n",
       "13          0.042           0.344           0.346  \n",
       "14         -0.190          -0.240           0.300  \n",
       "15          0.890           2.320           2.490  \n",
       "16         -0.020          -0.030           0.040  \n",
       "17         -0.240           0.340           0.420  \n",
       "18         -0.150          -0.150           0.220  \n",
       "19         -0.280          -0.230           0.360  \n",
       "\n",
       "[20 rows x 43 columns]"
      ]
     },
     "metadata": {},
     "output_type": "display_data"
    }
   ],
   "source": [
    "#Imprimindo os dados\n",
    "print(\"Dados:\")\n",
    "with pd.option_context(\"max_columns\", 12): # Limita o numero de cols mostradas\n",
    "    display(df.head(20))"
   ]
  },
  {
   "cell_type": "markdown",
   "metadata": {},
   "source": [
    "**Lógica para a normalização**\n",
    "\n",
    "De maneira geral, a fórmula divide a média de cada feature pelo seu desvio padrão."
   ]
  },
  {
   "cell_type": "code",
   "execution_count": 6,
   "metadata": {},
   "outputs": [
    {
     "data": {
      "text/html": [
       "<div>\n",
       "<style scoped>\n",
       "    .dataframe tbody tr th:only-of-type {\n",
       "        vertical-align: middle;\n",
       "    }\n",
       "\n",
       "    .dataframe tbody tr th {\n",
       "        vertical-align: top;\n",
       "    }\n",
       "\n",
       "    .dataframe thead th {\n",
       "        text-align: right;\n",
       "    }\n",
       "</style>\n",
       "<table border=\"1\" class=\"dataframe\">\n",
       "  <thead>\n",
       "    <tr style=\"text-align: right;\">\n",
       "      <th></th>\n",
       "      <th>Media</th>\n",
       "      <th>Desvio Padrão</th>\n",
       "    </tr>\n",
       "  </thead>\n",
       "  <tbody>\n",
       "    <tr>\n",
       "      <th>koi_period</th>\n",
       "      <td>-0.0</td>\n",
       "      <td>1.0</td>\n",
       "    </tr>\n",
       "    <tr>\n",
       "      <th>koi_impact</th>\n",
       "      <td>-0.0</td>\n",
       "      <td>1.0</td>\n",
       "    </tr>\n",
       "    <tr>\n",
       "      <th>koi_duration</th>\n",
       "      <td>0.0</td>\n",
       "      <td>1.0</td>\n",
       "    </tr>\n",
       "    <tr>\n",
       "      <th>koi_depth</th>\n",
       "      <td>-0.0</td>\n",
       "      <td>1.0</td>\n",
       "    </tr>\n",
       "    <tr>\n",
       "      <th>koi_ror</th>\n",
       "      <td>-0.0</td>\n",
       "      <td>1.0</td>\n",
       "    </tr>\n",
       "    <tr>\n",
       "      <th>koi_srho</th>\n",
       "      <td>0.0</td>\n",
       "      <td>1.0</td>\n",
       "    </tr>\n",
       "    <tr>\n",
       "      <th>koi_prad</th>\n",
       "      <td>0.0</td>\n",
       "      <td>1.0</td>\n",
       "    </tr>\n",
       "    <tr>\n",
       "      <th>...</th>\n",
       "      <td>...</td>\n",
       "      <td>...</td>\n",
       "    </tr>\n",
       "    <tr>\n",
       "      <th>koi_fwm_pdeco</th>\n",
       "      <td>0.0</td>\n",
       "      <td>1.0</td>\n",
       "    </tr>\n",
       "    <tr>\n",
       "      <th>koi_dicco_mra</th>\n",
       "      <td>0.0</td>\n",
       "      <td>1.0</td>\n",
       "    </tr>\n",
       "    <tr>\n",
       "      <th>koi_dicco_mdec</th>\n",
       "      <td>0.0</td>\n",
       "      <td>1.0</td>\n",
       "    </tr>\n",
       "    <tr>\n",
       "      <th>koi_dicco_msky</th>\n",
       "      <td>-0.0</td>\n",
       "      <td>1.0</td>\n",
       "    </tr>\n",
       "    <tr>\n",
       "      <th>koi_dikco_mra</th>\n",
       "      <td>0.0</td>\n",
       "      <td>1.0</td>\n",
       "    </tr>\n",
       "    <tr>\n",
       "      <th>koi_dikco_mdec</th>\n",
       "      <td>0.0</td>\n",
       "      <td>1.0</td>\n",
       "    </tr>\n",
       "    <tr>\n",
       "      <th>koi_dikco_msky</th>\n",
       "      <td>-0.0</td>\n",
       "      <td>1.0</td>\n",
       "    </tr>\n",
       "  </tbody>\n",
       "</table>\n",
       "<p>41 rows × 2 columns</p>\n",
       "</div>"
      ],
      "text/plain": [
       "                Media  Desvio Padrão\n",
       "koi_period       -0.0            1.0\n",
       "koi_impact       -0.0            1.0\n",
       "koi_duration      0.0            1.0\n",
       "koi_depth        -0.0            1.0\n",
       "koi_ror          -0.0            1.0\n",
       "koi_srho          0.0            1.0\n",
       "koi_prad          0.0            1.0\n",
       "...               ...            ...\n",
       "koi_fwm_pdeco     0.0            1.0\n",
       "koi_dicco_mra     0.0            1.0\n",
       "koi_dicco_mdec    0.0            1.0\n",
       "koi_dicco_msky   -0.0            1.0\n",
       "koi_dikco_mra     0.0            1.0\n",
       "koi_dikco_mdec    0.0            1.0\n",
       "koi_dikco_msky   -0.0            1.0\n",
       "\n",
       "[41 rows x 2 columns]"
      ]
     },
     "metadata": {},
     "output_type": "display_data"
    }
   ],
   "source": [
    "# Subtrai a media de cada feature\n",
    "df[features] = df[features] - df[features].mean()\n",
    "\n",
    "# Divide pelo desvio padrão\n",
    "# O desvio padrão não pode ser zero. **Observação importante\n",
    "df[features] = df[features] / df[features].std()\n",
    "\n",
    "#Imprimindo os valores após a normalização\n",
    "df_mean = df[features].mean().round(2).to_frame(\"Media\")\n",
    "df_std = df[features].std().round(2).to_frame(\"Desvio Padrão\")\n",
    "with pd.option_context(\"max_rows\", 15):\n",
    "    display(df_mean.join(df_std))\n"
   ]
  },
  {
   "cell_type": "markdown",
   "metadata": {},
   "source": [
    "## Separação dos dados para a validação cruzada\n",
    "\n",
    "Nessa parte são separados os dados com base nos folds(5) para a validação cruzada. A partir disto, os algoritmos irão usar essas partições para treino e teste."
   ]
  },
  {
   "cell_type": "code",
   "execution_count": 7,
   "metadata": {},
   "outputs": [],
   "source": [
    "#Criando os vetores de treino e validacao\n",
    "x_train = []\n",
    "y_train = []\n",
    "x_validation = []\n",
    "y_validation = []\n",
    "\n",
    "#Selecionando as features\n",
    "skb = feature_selection.SelectKBest(feature_selection.f_classif, 41)\n",
    "skb = skb.fit(df[features], df[TARGET])\n",
    "\n",
    "#separa o X (são os exemplos) e o Y é o rótulo [0 ou 1]\n",
    "X = df\n",
    "Y = df[TARGET]\n",
    "\n",
    "#Aqui é feito a separação dos dados em K_FOLD = 5.\n",
    "data_kfold = StratifiedKFold(n_splits=K_FOLD, shuffle=True)\n",
    "data_kfold.get_n_splits(X, Y)\n",
    "\n",
    "\n",
    "#Nessa parte é lido os folds e armazenado nas listas.\n",
    "#Exemplo: x_train [ fold1, fold2, fold3, fold4, fold5 ]\n",
    "\n",
    "for train_index, test_index in data_kfold.split(X, Y):\n",
    "    x_train.append(skb.transform(df.loc[train_index, features]))\n",
    "    x_validation.append(skb.transform(df.loc[test_index, features]))\n",
    "    y_train.append(df.loc[train_index, TARGET])\n",
    "    y_validation.append(df.loc[test_index, TARGET])    "
   ]
  },
  {
   "cell_type": "markdown",
   "metadata": {},
   "source": [
    "## Métodos Comuns\n",
    "\n",
    "Nesta parte são criados os métodos comuns que serão utilizados para gerar gráficos e plotar os resultados."
   ]
  },
  {
   "cell_type": "code",
   "execution_count": 8,
   "metadata": {},
   "outputs": [],
   "source": [
    "#Método para calcular as principais métricas dos classificadores\n",
    "def calc_important_metrics(y_val, y_pred):    \n",
    "    classes = [\"False Positive\", \"Confirmed\"]\n",
    "    print(metrics.classification_report(y_val, y_pred, [0, 1], classes))    "
   ]
  },
  {
   "cell_type": "code",
   "execution_count": 9,
   "metadata": {},
   "outputs": [],
   "source": [
    "#Método para plotar a curva ROC\n",
    "def calc_roc(y_val, y_proba):\n",
    "    fpr, tpr, _ = metrics.roc_curve(y_val, y_proba)\n",
    "\n",
    "    plt.figure(figsize=(6, 6))\n",
    "    lw = 2\n",
    "    plt.plot(fpr, tpr, color='royalblue',lw=2)\n",
    "    plt.plot([0, 1], [0, 1], color='Black', lw=2, ls='--')\n",
    "    plt.xlim([0.0, 1.0])\n",
    "    plt.ylim([0.0, 1.05])\n",
    "    plt.xlabel('False Positive Rate')\n",
    "    plt.ylabel('True Positive Rate')\n",
    "    plt.title('Curva ROC')\n",
    "    plt.show()"
   ]
  },
  {
   "cell_type": "code",
   "execution_count": 10,
   "metadata": {},
   "outputs": [],
   "source": [
    "#Plota o gráfico da acurácia no treino x acurácia na validação\n",
    "def plot_accuracyXparams(vX, vYTrain, xYtest, label, xticks = []):    \n",
    "    plt.plot(vX, vYTrain, 'r--', label=\"train\")\n",
    "    plt.plot(vX, xYtest, color='royalblue',lw=2, label=\"validation\")\n",
    "    plt.xlabel(label)\n",
    "    plt.ylabel('Accuracy')\n",
    "    plt.title('Parameters x Accuracy')\n",
    "    plt.legend(loc='upper left')\n",
    "    \n",
    "    if(len(xticks) > 0):\n",
    "        plt.xticks(vX, (xticks[0], xticks[1], xticks[2], xticks[3]))\n",
    "        \n",
    "    plt.show()    "
   ]
  },
  {
   "cell_type": "code",
   "execution_count": 11,
   "metadata": {},
   "outputs": [],
   "source": [
    "def show_results(clf):       \n",
    "    y_pred = []\n",
    "    y_prob = []\n",
    "    y_val = []\n",
    "\n",
    "#Obtêm todos os valores da validação de cada FOLD para calcular as métricas\n",
    "    for i in range(0, K_FOLD):   \n",
    "        y_pred.extend(clf.predict(x_validation[i]))\n",
    "        y_val.extend(y_validation[i])        \n",
    "        y_prob.extend(clf.predict_proba(x_validation[i])[:, 1])\n",
    "    \n",
    "    #Plotando resultados            \n",
    "    calc_important_metrics(y_val, y_pred)  \n",
    "    calc_roc(y_val, y_prob)"
   ]
  },
  {
   "cell_type": "markdown",
   "metadata": {},
   "source": [
    "## Resultados\n",
    "\n",
    "Nesta etapa serão apresentados os resultados dos classificadores na tarefa de classificar os exoplanetas. Vale ressaltar que foi utilizado validação cruzada de 5 folds/partições. Além do mais, foram plotados gráficos apenas para os melhores parâmetros de cada algoritmo. Em cada seção é abordada um algoritmo em especial, onde são apresentados os resultados e os gráficos. Por fim, na última seção é feito um resumo geral dos resultados."
   ]
  },
  {
   "cell_type": "markdown",
   "metadata": {},
   "source": [
    "## 1 - Naive Bayes\n",
    "\n",
    "O algoritmo Naive Bayes é o algoritmo mais simples abordado, sendo utilizado como baseline no trabalho. Abaixo temos os resultados. De maneira geral, o algoritmo apresentou uma acurácia de 91,7%. Como o algoritmo não é paramétrico, não foram variados parâmetros. Observando o resultado, nota-se que o problema não é complexo ou difícil de ser resolvido, pois esse algoritmo é bem simples e mesmo assim atingiu uma boa taxa de precisão."
   ]
  },
  {
   "cell_type": "code",
   "execution_count": 12,
   "metadata": {},
   "outputs": [],
   "source": [
    "def calc_naivebayes():\n",
    "    train_acc = []\n",
    "    val_acc = []\n",
    "            \n",
    "    gnb = GaussianNB()\n",
    "    \n",
    "    for i in range(0, K_FOLD):            \n",
    "        gnb = gnb.fit(x_train[i], y_train[i]) #Treino\n",
    "        train_acc.append(gnb.score(x_train[i], y_train[i]))\n",
    "        val_acc.append(gnb.score(x_validation[i], y_validation[i]))      \n",
    "          \n",
    "    print(\"Média da Acurácia na treino: {:.3}\".format(np.average(train_acc)))\n",
    "    print(\"Média da Acurácia na validação: {:.3}\".format(np.average(val_acc)))\n",
    "    print(\"Desvio Padrão da Acurácia na treino: {:.3}\".format(statistics.stdev(train_acc)))\n",
    "    print(\"Desvio Padrão da Acurácia na validação: {:.3}\".format(statistics.stdev(val_acc)))      \n",
    "    \n",
    "    return gnb"
   ]
  },
  {
   "cell_type": "code",
   "execution_count": 13,
   "metadata": {
    "scrolled": false
   },
   "outputs": [
    {
     "name": "stdout",
     "output_type": "stream",
     "text": [
      "Média da Acurácia na treino: 0.917\n",
      "Média da Acurácia na validação: 0.917\n",
      "Desvio Padrão da Acurácia na treino: 0.00261\n",
      "Desvio Padrão da Acurácia na validação: 0.00651\n"
     ]
    }
   ],
   "source": [
    "gnb = calc_naivebayes()"
   ]
  },
  {
   "cell_type": "markdown",
   "metadata": {},
   "source": [
    "**1.1 - Gráficos - Naive Bayes**"
   ]
  },
  {
   "cell_type": "code",
   "execution_count": 14,
   "metadata": {},
   "outputs": [
    {
     "name": "stdout",
     "output_type": "stream",
     "text": [
      "                precision    recall  f1-score   support\n",
      "\n",
      "False Positive       0.98      0.88      0.93      3098\n",
      "     Confirmed       0.84      0.97      0.91      2104\n",
      "\n",
      "     micro avg       0.92      0.92      0.92      5202\n",
      "     macro avg       0.91      0.93      0.92      5202\n",
      "  weighted avg       0.93      0.92      0.92      5202\n",
      "\n"
     ]
    },
    {
     "data": {
      "image/png": "[encoded data removed]",
      "text/plain": [
       "<Figure size 432x432 with 1 Axes>"
      ]
     },
     "metadata": {
      "needs_background": "light"
     },
     "output_type": "display_data"
    }
   ],
   "source": [
    "#Exibindo detalhes graficamente\n",
    "show_results(gnb)"
   ]
  },
  {
   "cell_type": "markdown",
   "metadata": {},
   "source": [
    "## 2 - Decision Tree\n",
    "\n",
    "Neste algoritmo foram variados parâmetros relacionados a altura da árvore, 30, 10 e 5, respectivamente. Esses valores foram escolhidos observando o último gráfico desta seção (parameter x accuracy). Ao realizar as variações, observou-se que, ao diminuir a profundidade máxima da árvore, a acurácia aumenta. Isso ocorre devida a árvore ser muito extensa, com isso acaba decorando os dados de treino, logo, na validação, o resultado não é tão bom quanto no treino (overfitting). Os gráficos abaixo exibem a variação da acurácia com base nas variações.\n",
    "\n",
    "De maneira geral:\n",
    "- O algoritmo apresentou uma boa precisão para o problema, alcançando uma acurácia de 94,8%, superior ao Naive Bayes.\n",
    "- Foi variado a altura da árvore. O melhor parâmetro foi: 5 graus de profundidade máxima. Ao observar o último gráfico, observa-se que selecionado a altura 5, o algoritmo apresenta uma taxa de acerto aceitável no treino e uma boa taxa no teste. Isso confirma que nesse ponto, o algoritmo estava generalizando. A partir desse valor a precisão na validação diminui e aumenta apenas no treino, gerando o overfitting. Se considerarmos 10 graus, a precisão na validação cresce, mas não justifica selecioná-lo, pois a diferença da precisão entre 5 e 10 é praticamente insignificante, além de que, com grau de profundidade = 10 o algoritmo passa a quase decorar os dados de treino.\n",
    "- Por fim, observando a curva ROC, nota-se que a partir que a taxa de True Positivo aumenta, cresce os Falso Positivos. De maneira geral, a quantidade de Falso Positivos é consideravelmente pequena, sendo aceitável para o problema proposto, pois com uma alta precisão, a quantidade de Falso Positivos se mantém baixa."
   ]
  },
  {
   "cell_type": "code",
   "execution_count": 49,
   "metadata": {},
   "outputs": [],
   "source": [
    "#Explicar cada parâmetro e explicar detalhadamente os resultados / Normalizar\n",
    "def calc_decision_tree(max_depth):\n",
    "    train_acc = []\n",
    "    val_acc = []\n",
    "    \n",
    "    clf = DecisionTreeClassifier(max_depth=max_depth)\n",
    "    \n",
    "    for i in range(0, K_FOLD):          \n",
    "        clf = clf.fit(x_train[i], y_train[i])  \n",
    "        train_acc.append(clf.score(x_train[i], y_train[i]))\n",
    "        val_acc.append(clf.score(x_validation[i], y_validation[i]))        \n",
    "\n",
    "    print(\"Média da Acurácia na treino: {:.3}\".format(np.average(train_acc)))\n",
    "    print(\"Média da Acurácia na validação: {:.3}\".format(np.average(val_acc)))\n",
    "    print(\"Desvio Padrão da Acurácia na treino: {:.3}\".format(statistics.stdev(train_acc)))\n",
    "    print(\"Desvio Padrão da Acurácia na validação: {:.3}\".format(statistics.stdev(val_acc)))\n",
    "    \n",
    "    return clf, np.average(train_acc), np.average(val_acc)"
   ]
  },
  {
   "cell_type": "markdown",
   "metadata": {},
   "source": [
    "**2.1 - Variando Parâmetros**"
   ]
  },
  {
   "cell_type": "code",
   "execution_count": 50,
   "metadata": {
    "scrolled": true
   },
   "outputs": [
    {
     "name": "stdout",
     "output_type": "stream",
     "text": [
      "Média da Acurácia na treino: 1.0\n",
      "Média da Acurácia na validação: 0.948\n",
      "Desvio Padrão da Acurácia na treino: 0.0\n",
      "Desvio Padrão da Acurácia na validação: 0.00567\n"
     ]
    }
   ],
   "source": [
    "v_decision_acc_train = []\n",
    "v_decision_acc_test = []\n",
    "\n",
    "clf, acc_train, acc_test = calc_decision_tree(30)\n",
    "v_decision_acc_train.append(acc_train)\n",
    "v_decision_acc_test.append(acc_test)"
   ]
  },
  {
   "cell_type": "code",
   "execution_count": 51,
   "metadata": {
    "scrolled": true
   },
   "outputs": [
    {
     "name": "stdout",
     "output_type": "stream",
     "text": [
      "Média da Acurácia na treino: 0.992\n",
      "Média da Acurácia na validação: 0.95\n",
      "Desvio Padrão da Acurácia na treino: 0.00171\n",
      "Desvio Padrão da Acurácia na validação: 0.00415\n"
     ]
    }
   ],
   "source": [
    "clf, acc_train, acc_test = calc_decision_tree(10)\n",
    "v_decision_acc_train.append(acc_train)\n",
    "v_decision_acc_test.append(acc_test)"
   ]
  },
  {
   "cell_type": "code",
   "execution_count": 52,
   "metadata": {
    "scrolled": false
   },
   "outputs": [
    {
     "name": "stdout",
     "output_type": "stream",
     "text": [
      "Média da Acurácia na treino: 0.965\n",
      "Média da Acurácia na validação: 0.948\n",
      "Desvio Padrão da Acurácia na treino: 0.00268\n",
      "Desvio Padrão da Acurácia na validação: 0.00611\n"
     ]
    }
   ],
   "source": [
    "clf, acc_train, acc_test = calc_decision_tree(5)\n",
    "v_decision_acc_train.append(acc_train)\n",
    "v_decision_acc_test.append(acc_test)"
   ]
  },
  {
   "cell_type": "markdown",
   "metadata": {},
   "source": [
    "**2.2 - Gráficos - Decision Tree**"
   ]
  },
  {
   "cell_type": "code",
   "execution_count": 53,
   "metadata": {
    "scrolled": true
   },
   "outputs": [
    {
     "name": "stdout",
     "output_type": "stream",
     "text": [
      "                precision    recall  f1-score   support\n",
      "\n",
      "False Positive       0.98      0.95      0.97      3098\n",
      "     Confirmed       0.93      0.98      0.95      2104\n",
      "\n",
      "     micro avg       0.96      0.96      0.96      5202\n",
      "     macro avg       0.96      0.96      0.96      5202\n",
      "  weighted avg       0.96      0.96      0.96      5202\n",
      "\n"
     ]
    },
    {
     "data": {
      "image/png": "[encoded data removed]",
      "text/plain": [
       "<Figure size 432x432 with 1 Axes>"
      ]
     },
     "metadata": {
      "needs_background": "light"
     },
     "output_type": "display_data"
    },
    {
     "data": {
      "image/png": "[encoded data removed]",
      "text/plain": [
       "<Figure size 432x288 with 1 Axes>"
      ]
     },
     "metadata": {
      "needs_background": "light"
     },
     "output_type": "display_data"
    }
   ],
   "source": [
    "show_results(clf)\n",
    "plot_accuracyXparams([30, 10, 5], v_decision_acc_train, v_decision_acc_test, \"Depth\")"
   ]
  },
  {
   "cell_type": "markdown",
   "metadata": {},
   "source": [
    "## 3 - Support Vector Machine\n",
    "\n",
    "Neste algoritmo foi variado os parâmetros de kernel (sigmoid, poly, rbf, linear). O kernel no SVM é um dos principais parâmetros, que é responsável por transformar a distribuição dos dados para a classificação. Utilizando o kernel=linear alcançou-se a melhor acurácia (95,2%), um pouco superior ao Decision Tree. No último gráfico é possível observar a acurácia do SVM utilizando cada kernel. \n",
    "\n",
    "\n",
    "- Gráfico (parameter x accuracy) - Um fato interessante é que diferente dos outros métodos, o SVM apresentou taxas próximas de acurácia tanto no treino e teste, indicando que o SVM não está \"decorando\" os dados, sendo assim, possível generalizar com eficiência em todos os kernels.\n",
    "- Já a curva ROC é um pouco \"melhor\", no sentido que está bem próxima ao eixo 0. Além de que, a curva mais acentuada ocorre bem próxima ao 1 no eixo y, ou seja, é possível atingir uma alta precisão com poucos erros de Falso Positivo.\n",
    "- Adicionalmente, o algoritmo tem boas medidas de recall acompanhadas de uma precisão alta. Isso é bom, pois o algoritmo detecta grande parte dos exoplanetas que existem para a classificação."
   ]
  },
  {
   "cell_type": "code",
   "execution_count": 21,
   "metadata": {},
   "outputs": [],
   "source": [
    "def calc_svm(kernel):\n",
    "    train_acc = []\n",
    "    val_acc = []\n",
    "    c = 1.0\n",
    "    clf = svm.SVC(c, kernel, gamma=\"scale\", probability=True)\n",
    "    \n",
    "    for i in range(0, K_FOLD):          \n",
    "        print(\"Fold \" + str(i))\n",
    "        clf = clf.fit(x_train[i], y_train[i])  \n",
    "        train_acc.append(clf.score(x_train[i], y_train[i]))\n",
    "        val_acc.append(clf.score(x_validation[i], y_validation[i]))\n",
    "   \n",
    "    print(\"Média da Acurácia na treino: {:.3}\".format(np.average(train_acc)))\n",
    "    print(\"Média da Acurácia na validação: {:.3}\".format(np.average(val_acc)))\n",
    "    print(\"Desvio Padrão da Acurácia na treino: {:.3}\".format(statistics.stdev(train_acc)))\n",
    "    print(\"Desvio Padrão da Acurácia na validação: {:.3}\".format(statistics.stdev(val_acc)))   \n",
    "    \n",
    "    return clf, np.average(train_acc), np.average(val_acc)"
   ]
  },
  {
   "cell_type": "markdown",
   "metadata": {},
   "source": [
    "**3.1 - Parâmetros**"
   ]
  },
  {
   "cell_type": "code",
   "execution_count": 22,
   "metadata": {},
   "outputs": [
    {
     "name": "stdout",
     "output_type": "stream",
     "text": [
      "Fold 0\n",
      "Fold 1\n",
      "Fold 2\n",
      "Fold 3\n",
      "Fold 4\n",
      "Média da Acurácia na treino: 0.834\n",
      "Média da Acurácia na validação: 0.835\n",
      "Desvio Padrão da Acurácia na treino: 0.0127\n",
      "Desvio Padrão da Acurácia na validação: 0.0216\n"
     ]
    }
   ],
   "source": [
    "v_svm_acc_train = []\n",
    "v_svm_acc_test = []\n",
    "\n",
    "clf, acc_train, acc_test = calc_svm(\"sigmoid\")\n",
    "v_svm_acc_train.append(acc_train)\n",
    "v_svm_acc_test.append(acc_test)"
   ]
  },
  {
   "cell_type": "code",
   "execution_count": 23,
   "metadata": {},
   "outputs": [
    {
     "name": "stdout",
     "output_type": "stream",
     "text": [
      "Fold 0\n",
      "Fold 1\n",
      "Fold 2\n",
      "Fold 3\n",
      "Fold 4\n",
      "Média da Acurácia na treino: 0.892\n",
      "Média da Acurácia na validação: 0.879\n",
      "Desvio Padrão da Acurácia na treino: 0.00201\n",
      "Desvio Padrão da Acurácia na validação: 0.00907\n"
     ]
    }
   ],
   "source": [
    "clf, acc_train, acc_test = calc_svm(\"poly\")\n",
    "v_svm_acc_train.append(acc_train)\n",
    "v_svm_acc_test.append(acc_test)"
   ]
  },
  {
   "cell_type": "code",
   "execution_count": 24,
   "metadata": {
    "scrolled": true
   },
   "outputs": [
    {
     "name": "stdout",
     "output_type": "stream",
     "text": [
      "Fold 0\n",
      "Fold 1\n",
      "Fold 2\n",
      "Fold 3\n",
      "Fold 4\n",
      "Média da Acurácia na treino: 0.943\n",
      "Média da Acurácia na validação: 0.937\n",
      "Desvio Padrão da Acurácia na treino: 0.00151\n",
      "Desvio Padrão da Acurácia na validação: 0.00876\n"
     ]
    }
   ],
   "source": [
    "clf, acc_train, acc_test = calc_svm(\"rbf\")\n",
    "v_svm_acc_train.append(acc_train)\n",
    "v_svm_acc_test.append(acc_test)"
   ]
  },
  {
   "cell_type": "code",
   "execution_count": 25,
   "metadata": {},
   "outputs": [
    {
     "name": "stdout",
     "output_type": "stream",
     "text": [
      "Fold 0\n",
      "Fold 1\n",
      "Fold 2\n",
      "Fold 3\n",
      "Fold 4\n",
      "Média da Acurácia na treino: 0.955\n",
      "Média da Acurácia na validação: 0.952\n",
      "Desvio Padrão da Acurácia na treino: 0.000925\n",
      "Desvio Padrão da Acurácia na validação: 0.00369\n"
     ]
    }
   ],
   "source": [
    "clf, acc_train, acc_test = calc_svm(\"linear\")\n",
    "v_svm_acc_train.append(acc_train)\n",
    "v_svm_acc_test.append(acc_test)"
   ]
  },
  {
   "cell_type": "markdown",
   "metadata": {},
   "source": [
    "**Resultado**"
   ]
  },
  {
   "cell_type": "code",
   "execution_count": 26,
   "metadata": {},
   "outputs": [
    {
     "name": "stdout",
     "output_type": "stream",
     "text": [
      "                precision    recall  f1-score   support\n",
      "\n",
      "False Positive       0.97      0.95      0.96      3098\n",
      "     Confirmed       0.93      0.96      0.95      2104\n",
      "\n",
      "     micro avg       0.96      0.96      0.96      5202\n",
      "     macro avg       0.95      0.96      0.95      5202\n",
      "  weighted avg       0.96      0.96      0.96      5202\n",
      "\n"
     ]
    },
    {
     "data": {
      "image/png": "[encoded data removed]",
      "text/plain": [
       "<Figure size 432x432 with 1 Axes>"
      ]
     },
     "metadata": {
      "needs_background": "light"
     },
     "output_type": "display_data"
    },
    {
     "data": {
      "image/png": "[encoded data removed]",
      "text/plain": [
       "<Figure size 432x288 with 1 Axes>"
      ]
     },
     "metadata": {
      "needs_background": "light"
     },
     "output_type": "display_data"
    }
   ],
   "source": [
    "show_results(clf)\n",
    "plot_accuracyXparams([1, 2, 3, 4], v_svm_acc_train, v_svm_acc_test, \"Kernel\", [\"sigmoid\", \"poly\", \"rbf\", \"linear\"])"
   ]
  },
  {
   "cell_type": "markdown",
   "metadata": {},
   "source": [
    "## 4 - k-NN\n",
    "\n",
    "Neste algoritmo foi variado a quantidade de vizinhos, ou seja, a quantidade de vizinhos necessários para classificar um ponto para uma classe ou não. De maneira geral: \n",
    "\n",
    "- O algoritmo apresentou uma precisão máxima de 89,3%.\n",
    "- Ao aumentar a quantidade de vizinhos do algoritmos, a precisão foi aumentando. Logo, o melhor parâmetro para a escolha foi k = 10.\n",
    "- No gráfico (parameter x accuracy), é possível observar que ao aumentar a variável (k), ou seja, a quantidade de vizinhos, a precisão no treino e no teste diminui. Mas ao observar no k = 10, temos um aumento na precisão no teste acompanhado de uma queda no treino, ou seja o algoritmo com esses parâmetros obtém uma boa taxa de aprendizado. A partir de k = 10, o valor da precisão na validação e no treino diminui se aproximando cada vez mais. Por isso a escolha desse valor k=10, pois nesse ponto a precisão do treino diminui mas no teste se mantém praticamente a mesma de k = 5.\n",
    "- A curva ROC se compararmos com as anteriores, observa-se uma maior inclinação. De certa maneira, com esse algoritmo, obtém-se uma maior quantidade de Falso Positivos do que com os anteriores."
   ]
  },
  {
   "cell_type": "code",
   "execution_count": 27,
   "metadata": {},
   "outputs": [],
   "source": [
    "def calc_k_nn(k): \n",
    "    train_acc = []\n",
    "    val_acc = []\n",
    "    \n",
    "    print(\"K = {}\".format(k))             \n",
    "    clf = neighbors.KNeighborsClassifier(n_neighbors=k) \n",
    "    \n",
    "    for i in range(0, K_FOLD):          \n",
    "        clf = clf.fit(x_train[i], y_train[i])  \n",
    "        train_acc.append(clf.score(x_train[i], y_train[i]))\n",
    "        val_acc.append(clf.score(x_validation[i], y_validation[i]))\n",
    "\n",
    "    print(\"Média da Acurácia na treino: {:.3}\".format(np.average(train_acc)))\n",
    "    print(\"Média da Acurácia na validação: {:.3}\".format(np.average(val_acc)))\n",
    "    print(\"Desvio Padrão da Acurácia na treino: {:.3}\".format(statistics.stdev(train_acc)))\n",
    "    print(\"Desvio Padrão da Acurácia na validação: {:.3}\".format(statistics.stdev(val_acc))) \n",
    "    \n",
    "    return clf, np.average(train_acc), np.average(val_acc)"
   ]
  },
  {
   "cell_type": "markdown",
   "metadata": {},
   "source": [
    "**4.1 - Variando Parâmetros**"
   ]
  },
  {
   "cell_type": "code",
   "execution_count": 28,
   "metadata": {
    "scrolled": true
   },
   "outputs": [
    {
     "name": "stdout",
     "output_type": "stream",
     "text": [
      "K = 5\n",
      "Média da Acurácia na treino: 0.919\n",
      "Média da Acurácia na validação: 0.896\n",
      "Desvio Padrão da Acurácia na treino: 0.00211\n",
      "Desvio Padrão da Acurácia na validação: 0.00845\n"
     ]
    }
   ],
   "source": [
    "v_knn_acc_train = []\n",
    "v_knn_acc_test = []\n",
    "\n",
    "clf, acc_train, acc_test = calc_k_nn(5)\n",
    "v_knn_acc_train.append(acc_train)\n",
    "v_knn_acc_test.append(acc_test)"
   ]
  },
  {
   "cell_type": "code",
   "execution_count": 29,
   "metadata": {
    "scrolled": false
   },
   "outputs": [
    {
     "name": "stdout",
     "output_type": "stream",
     "text": [
      "K = 10\n",
      "Média da Acurácia na treino: 0.91\n",
      "Média da Acurácia na validação: 0.893\n",
      "Desvio Padrão da Acurácia na treino: 0.00131\n",
      "Desvio Padrão da Acurácia na validação: 0.00692\n",
      "\n",
      "\n",
      "                precision    recall  f1-score   support\n",
      "\n",
      "False Positive       0.98      0.86      0.92      3098\n",
      "     Confirmed       0.82      0.97      0.89      2104\n",
      "\n",
      "     micro avg       0.91      0.91      0.91      5202\n",
      "     macro avg       0.90      0.92      0.90      5202\n",
      "  weighted avg       0.92      0.91      0.91      5202\n",
      "\n"
     ]
    },
    {
     "data": {
      "image/png": "[encoded data removed]",
      "text/plain": [
       "<Figure size 432x432 with 1 Axes>"
      ]
     },
     "metadata": {
      "needs_background": "light"
     },
     "output_type": "display_data"
    }
   ],
   "source": [
    "#Melhor parâmetro\n",
    "clf, acc_train, acc_test = calc_k_nn(10)\n",
    "v_knn_acc_train.append(acc_train)\n",
    "v_knn_acc_test.append(acc_test)\n",
    "print(\"\\n\")\n",
    "show_results(clf)"
   ]
  },
  {
   "cell_type": "code",
   "execution_count": 30,
   "metadata": {
    "scrolled": false
   },
   "outputs": [
    {
     "name": "stdout",
     "output_type": "stream",
     "text": [
      "K = 30\n",
      "Média da Acurácia na treino: 0.877\n",
      "Média da Acurácia na validação: 0.872\n",
      "Desvio Padrão da Acurácia na treino: 0.00283\n",
      "Desvio Padrão da Acurácia na validação: 0.0101\n"
     ]
    }
   ],
   "source": [
    "clf, acc_train, acc_test = calc_k_nn(30)\n",
    "v_knn_acc_train.append(acc_train)\n",
    "v_knn_acc_test.append(acc_test)"
   ]
  },
  {
   "cell_type": "markdown",
   "metadata": {},
   "source": [
    "**4.2 - Gráficos - k-NN**"
   ]
  },
  {
   "cell_type": "code",
   "execution_count": 31,
   "metadata": {},
   "outputs": [
    {
     "data": {
      "image/png": "[encoded data removed]",
      "text/plain": [
       "<Figure size 432x288 with 1 Axes>"
      ]
     },
     "metadata": {
      "needs_background": "light"
     },
     "output_type": "display_data"
    }
   ],
   "source": [
    "\n",
    "plot_accuracyXparams([5, 10, 30], v_knn_acc_train, v_knn_acc_test, \"Neighbors\")"
   ]
  },
  {
   "cell_type": "markdown",
   "metadata": {},
   "source": [
    "## 5 - Random Forest\n",
    "\n",
    "Neste algoritmo foram variados os parâmetros de: quantidade de árvores e tamanho máximo da árvore. De maneira geral, o algoritmo apresentou uma boa precisão de 96,6%.\n",
    "\n",
    "De maneira geral:\n",
    "\n",
    "- Os parâmetros: n_estimators=25, max_depth=10, foram os melhores. Max_depth está relacionado com o tamanho máximo de cada árvore do modelo Random Forest. É importante sempre escolher um tamanho em que o algoritmo não decore os dados. Já n_estimators, está relacionado com a quantidade de árvores do modelo. Por fim, teremos um modelo com 25 árvores com no máximo uma altura de 10.\n",
    "- É interessante notar que se utilizarmos uma maior quantidade de árvores, a precisão no teste aumenta, mas em contrapartida, o modelo em vez de generalizar, decora o dado, pois a precisão do treino fica em 100%. Além do mais, se observarmos a diferença entre as precisões, nota-se que essa diferença é bem pequena, não justificando a escolha de valores maiores. Por isso, foi escolhido parâmetros com uma precisão um pouco menor (0,02%), mas que não decora os dados. No último gráfico (parameter x accuracy) é possível observar essa variação.\n",
    "- Além disto, o Random Forest demonstra ser um bom classificador. Ao observar a curva ROC, nota-se que praticamente o gráfico se mantém no x = 0, ou seja, não apresenta Falso Positivo. A curva começa aparecer apenas bem próximo ao y = 1. Assim, é possível afirmar que o Random Forest apresentou a melhor curva até então, apresentando poucos Falso Positivos. Além do mais, se existisse uma restrição que era necessário ter um modelo com poucos Falso Positivos, a melhor escolha seria o Random Forest."
   ]
  },
  {
   "cell_type": "code",
   "execution_count": 32,
   "metadata": {},
   "outputs": [],
   "source": [
    "def calc_randomforest(N, max_depth):\n",
    "    train_acc = []\n",
    "    val_acc = []\n",
    "    \n",
    "    clf = ensemble.RandomForestClassifier(n_estimators=N, max_depth=max_depth)\n",
    "    \n",
    "    for i in range(0, K_FOLD):          \n",
    "        clf = clf.fit(x_train[i], y_train[i])  \n",
    "        train_acc.append(clf.score(x_train[i], y_train[i]))\n",
    "        val_acc.append(clf.score(x_validation[i], y_validation[i]))        \n",
    "\n",
    "    print(\"Média da Acurácia na treino: {:.3}\".format(np.average(train_acc)))\n",
    "    print(\"Média da Acurácia na validação: {:.3}\".format(np.average(val_acc)))\n",
    "    print(\"Desvio Padrão da Acurácia na treino: {:.3}\".format(statistics.stdev(train_acc)))\n",
    "    print(\"Desvio Padrão da Acurácia na validação: {:.3}\".format(statistics.stdev(val_acc)))\n",
    "        \n",
    "    return clf, np.average(train_acc), np.average(val_acc)"
   ]
  },
  {
   "cell_type": "markdown",
   "metadata": {},
   "source": [
    "**5.1 - Variando Parâmetros**"
   ]
  },
  {
   "cell_type": "code",
   "execution_count": 38,
   "metadata": {
    "scrolled": true
   },
   "outputs": [
    {
     "name": "stdout",
     "output_type": "stream",
     "text": [
      "Média da Acurácia na treino: 1.0\n",
      "Média da Acurácia na validação: 0.969\n",
      "Desvio Padrão da Acurácia na treino: 0.000107\n",
      "Desvio Padrão da Acurácia na validação: 0.00529\n"
     ]
    }
   ],
   "source": [
    "v_random_acc_train = []\n",
    "v_random_acc_test = []\n",
    "\n",
    "clf, acc_train, acc_test = calc_randomforest(50, None)\n",
    "v_random_acc_train.append(acc_train)\n",
    "v_random_acc_test.append(acc_test)"
   ]
  },
  {
   "cell_type": "code",
   "execution_count": 39,
   "metadata": {
    "scrolled": true
   },
   "outputs": [
    {
     "name": "stdout",
     "output_type": "stream",
     "text": [
      "Média da Acurácia na treino: 0.99\n",
      "Média da Acurácia na validação: 0.966\n",
      "Desvio Padrão da Acurácia na treino: 0.00137\n",
      "Desvio Padrão da Acurácia na validação: 0.00536\n",
      "\n",
      "\n",
      "                precision    recall  f1-score   support\n",
      "\n",
      "False Positive       0.99      0.98      0.99      3098\n",
      "     Confirmed       0.97      0.99      0.98      2104\n",
      "\n",
      "     micro avg       0.98      0.98      0.98      5202\n",
      "     macro avg       0.98      0.98      0.98      5202\n",
      "  weighted avg       0.98      0.98      0.98      5202\n",
      "\n"
     ]
    },
    {
     "data": {
      "image/png": "[encoded data removed]",
      "text/plain": [
       "<Figure size 432x432 with 1 Axes>"
      ]
     },
     "metadata": {
      "needs_background": "light"
     },
     "output_type": "display_data"
    }
   ],
   "source": [
    "#Melhor Parâmetro\n",
    "clf, acc_train, acc_test = calc_randomforest(25, 10)\n",
    "v_random_acc_train.append(acc_train)\n",
    "v_random_acc_test.append(acc_test)\n",
    "print(\"\\n\")\n",
    "show_results(clf)"
   ]
  },
  {
   "cell_type": "code",
   "execution_count": 40,
   "metadata": {
    "scrolled": false
   },
   "outputs": [
    {
     "name": "stdout",
     "output_type": "stream",
     "text": [
      "Média da Acurácia na treino: 0.989\n",
      "Média da Acurácia na validação: 0.964\n",
      "Desvio Padrão da Acurácia na treino: 0.0019\n",
      "Desvio Padrão da Acurácia na validação: 0.00562\n"
     ]
    }
   ],
   "source": [
    "clf, acc_train, acc_test = calc_randomforest(10, 10)\n",
    "v_random_acc_train.append(acc_train)\n",
    "v_random_acc_test.append(acc_test)"
   ]
  },
  {
   "cell_type": "markdown",
   "metadata": {},
   "source": [
    "**5.2 - Gráficos**"
   ]
  },
  {
   "cell_type": "code",
   "execution_count": 41,
   "metadata": {},
   "outputs": [
    {
     "data": {
      "image/png": "[encoded data removed]",
      "text/plain": [
       "<Figure size 432x288 with 1 Axes>"
      ]
     },
     "metadata": {
      "needs_background": "light"
     },
     "output_type": "display_data"
    }
   ],
   "source": [
    "plot_accuracyXparams([50, 25, 10], v_random_acc_train, v_random_acc_test, \"Number Tree\")"
   ]
  },
  {
   "cell_type": "markdown",
   "metadata": {},
   "source": [
    "## 6 - Gradiente Tree Boosting\n",
    "\n",
    "Neste algoritmo, variou-se o parâmetro de iteração (n_estimators). De maneira geral, o algoritmo apresentou um excelente resultado 96,4% de acurácia. O melhor parâmetro para o algoritmo foi: n_estimators = 30. Esse parâmetro significa a quantidade de árvores incluídas no modelo, ou seja, a quantidade de iterações, onde cada árvore é responsável pelos dados que o anterior errou, assim construindo um modelo eficiente.\n",
    "\n",
    "- No último gráfico, é possível observar que a partir de n_estimators = 30, a precisão na validação não cresce de maneira significativa. Apenas a precisão no treino aumenta, ou seja, começa o overfitting. Assim, escolheu-se 30 como melhor parâmetro, que é o momento em que o algoritmo apresenta uma boa taxa de acerto na validação e não está decorando os dados.\n",
    "\n",
    "- Além do mais, a curva ROC apresenta bons resultados, no sentido que possui poucos Falso Positivos a medida que a precisão cresce, ficando atrás apenas da curva do Random Forest. "
   ]
  },
  {
   "cell_type": "code",
   "execution_count": 42,
   "metadata": {},
   "outputs": [],
   "source": [
    "def calc_gradient_tree_boosting(n_estimators):\n",
    "    train_acc = []\n",
    "    val_acc = []\n",
    "    \n",
    "    clf = clf = ensemble.GradientBoostingClassifier(n_estimators=n_estimators)\n",
    "    \n",
    "    for i in range(0, K_FOLD):          \n",
    "        clf = clf.fit(x_train[i], y_train[i])  \n",
    "        train_acc.append(clf.score(x_train[i], y_train[i]))\n",
    "        val_acc.append(clf.score(x_validation[i], y_validation[i]))        \n",
    "\n",
    "    print(\"Média da Acurácia na treino: {:.3}\".format(np.average(train_acc)))\n",
    "    print(\"Média da Acurácia na validação: {:.3}\".format(np.average(val_acc)))\n",
    "    print(\"Desvio Padrão da Acurácia na treino: {:.3}\".format(statistics.stdev(train_acc)))\n",
    "    print(\"Desvio Padrão da Acurácia na validação: {:.3}\".format(statistics.stdev(val_acc)))\n",
    "    \n",
    "    return clf, np.average(train_acc), np.average(val_acc)"
   ]
  },
  {
   "cell_type": "markdown",
   "metadata": {},
   "source": [
    "**6.1 - Variando Parâmetros**"
   ]
  },
  {
   "cell_type": "code",
   "execution_count": 43,
   "metadata": {},
   "outputs": [
    {
     "name": "stdout",
     "output_type": "stream",
     "text": [
      "Média da Acurácia na treino: 0.951\n",
      "Média da Acurácia na validação: 0.945\n",
      "Desvio Padrão da Acurácia na treino: 0.00319\n",
      "Desvio Padrão da Acurácia na validação: 0.00723\n"
     ]
    }
   ],
   "source": [
    "v_boosting_train = []\n",
    "v_boosting_test = []\n",
    "\n",
    "clf, acc_train, acc_test = calc_gradient_tree_boosting(5)\n",
    "v_boosting_train.append(acc_train)\n",
    "v_boosting_test.append(acc_test)"
   ]
  },
  {
   "cell_type": "code",
   "execution_count": 44,
   "metadata": {
    "scrolled": false
   },
   "outputs": [
    {
     "name": "stdout",
     "output_type": "stream",
     "text": [
      "Média da Acurácia na treino: 0.963\n",
      "Média da Acurácia na validação: 0.955\n",
      "Desvio Padrão da Acurácia na treino: 0.00185\n",
      "Desvio Padrão da Acurácia na validação: 0.00769\n"
     ]
    }
   ],
   "source": [
    "clf, acc_train, acc_test = calc_gradient_tree_boosting(15)\n",
    "v_boosting_train.append(acc_train)\n",
    "v_boosting_test.append(acc_test)"
   ]
  },
  {
   "cell_type": "code",
   "execution_count": 45,
   "metadata": {},
   "outputs": [
    {
     "name": "stdout",
     "output_type": "stream",
     "text": [
      "Média da Acurácia na treino: 0.973\n",
      "Média da Acurácia na validação: 0.964\n",
      "Desvio Padrão da Acurácia na treino: 0.00119\n",
      "Desvio Padrão da Acurácia na validação: 0.00731\n",
      "\n",
      "\n",
      "                precision    recall  f1-score   support\n",
      "\n",
      "False Positive       0.98      0.97      0.98      3098\n",
      "     Confirmed       0.96      0.97      0.96      2104\n",
      "\n",
      "     micro avg       0.97      0.97      0.97      5202\n",
      "     macro avg       0.97      0.97      0.97      5202\n",
      "  weighted avg       0.97      0.97      0.97      5202\n",
      "\n"
     ]
    },
    {
     "data": {
      "image/png": "[encoded data removed]",
      "text/plain": [
       "<Figure size 432x432 with 1 Axes>"
      ]
     },
     "metadata": {
      "needs_background": "light"
     },
     "output_type": "display_data"
    }
   ],
   "source": [
    "#Melhor parâmetro\n",
    "clf, acc_train, acc_test = calc_gradient_tree_boosting(30)\n",
    "v_boosting_train.append(acc_train)\n",
    "v_boosting_test.append(acc_test)\n",
    "print(\"\\n\")\n",
    "show_results(clf)"
   ]
  },
  {
   "cell_type": "code",
   "execution_count": 46,
   "metadata": {
    "scrolled": true
   },
   "outputs": [
    {
     "name": "stdout",
     "output_type": "stream",
     "text": [
      "Média da Acurácia na treino: 0.998\n",
      "Média da Acurácia na validação: 0.972\n",
      "Desvio Padrão da Acurácia na treino: 0.00038\n",
      "Desvio Padrão da Acurácia na validação: 0.00271\n"
     ]
    }
   ],
   "source": [
    "clf, acc_train, acc_test = calc_gradient_tree_boosting(200)\n",
    "v_boosting_train.append(acc_train)\n",
    "v_boosting_test.append(acc_test)"
   ]
  },
  {
   "cell_type": "markdown",
   "metadata": {},
   "source": [
    "**6.2 - Gráficos**"
   ]
  },
  {
   "cell_type": "code",
   "execution_count": 47,
   "metadata": {},
   "outputs": [
    {
     "data": {
      "image/png": "[encoded data removed]",
      "text/plain": [
       "<Figure size 432x288 with 1 Axes>"
      ]
     },
     "metadata": {
      "needs_background": "light"
     },
     "output_type": "display_data"
    }
   ],
   "source": [
    "plot_accuracyXparams([5, 15, 30, 200], v_boosting_train, v_boosting_test, \"Number Iteration\")"
   ]
  },
  {
   "cell_type": "markdown",
   "metadata": {},
   "source": [
    "## Conclusão"
   ]
  },
  {
   "cell_type": "markdown",
   "metadata": {},
   "source": [
    "Ao observar os resultados dos algoritmos, pode-se afirmar que de maneira geral, os algoritmos baseados em árvores de decisão apresentaram os melhores resultados (Gradiente Tree Boosting, Random Forest, Decision Tree). Abaixo segue o ranking dos algoritmos.\n",
    "\n",
    "\n",
    "- 1º - Random Forest (96,6% - std(0.005)) - (n_estimators=25, max_depth=10)\n",
    "- 2º - Gradiente Tree Boosting (96,4% - std(0.007)) - (n_estimators=30)\n",
    "- 3º - SVM (95,2% - std(0.003)) - (kernel=linear)\n",
    "- 4º - Decision Tree (94,8% - std(0.006)) - (k=5)\n",
    "- 5º - Naive Bayes (91,7% - std(0.006))\n",
    "- 6º - k-NN (89,3% - std(0.006)) - (n_neighbors=10)\n",
    "\n",
    "A definição dos melhores algoritmos considerou a acurácia no treino e no teste. Buscando selecionar os parâmetros que permitia que os algoritmos não decorar os dados no treino, ou seja, selecionando os modelos com precisão próxima tanto no treino quanto no teste. Além do mais, os parâmetros foram escolhidos visando obter os parâmetros onde a precisão no treino seja próxima ao teste, indo até os valores em que a precisão da validação estava crescendo. A partir do momento em que a precisão na validação parava de crescer, sabiamos que não faria sentido selecionar parâmetros maiores."
   ]
  },
  {
   "cell_type": "markdown",
   "metadata": {},
   "source": [
    "**Gráfico da acurácia dos algoritmos com seus melhores parâmetros**"
   ]
  },
  {
   "cell_type": "code",
   "execution_count": 54,
   "metadata": {
    "scrolled": false
   },
   "outputs": [
    {
     "data": {
      "image/png": "[encoded data removed]",
      "text/plain": [
       "<Figure size 648x360 with 1 Axes>"
      ]
     },
     "metadata": {
      "needs_background": "light"
     },
     "output_type": "display_data"
    }
   ],
   "source": [
    "fig, ax = plt.subplots(figsize=(9, 5))\n",
    "x = [0,1,2,3,4,5]\n",
    "plt.bar(x, [0.917, 0.948, 0.952, 0.893, 0.966, 0.964])\n",
    "plt.xticks(x, ('Naive Bayes', 'Decision Tree', 'SVM', 'k-NN', 'Random Forest', 'Tree Boosting'))\n",
    "plt.ylabel('Accuracy')\n",
    "plt.xlabel('Algorithm')\n",
    "plt.show()"
   ]
  },
  {
   "cell_type": "markdown",
   "metadata": {},
   "source": [
    "Apesar de criarmos o ranking, é difícil afirmar qual modelo de fato é o melhor. Se trazermos para as análises as ferramentas estatísticas, vamos perceber que a diferença entre cada modelo é bem pequena, não sendo suficiente para afirmar com uma precisão qual é o melhor. Se observarmos o desvio padrão de cada resultado, podemos ter uma visão que a variação entre eles é bem pequena. Exceto o k-NN e o Naive Bayes, que teve um desempenho um pouco abaixo, os demais apresentam taxas próximas de precisão. \n",
    "\n",
    "De maneira geral, a diferença entre os modelos está na sua abordagem. Naive Bayes com uma abordagem probabilística atingiu uma boa precisão, visto que é um modelo simples. Com isso, podemos induzir que o problema de classificação a ser resolvido não era complexo. Por fim, observando os resultados, os modelos baseados em árvores de decisão foram os melhores algoritmos para o problema de classificação."
   ]
  }
 ],
 "metadata": {
  "kernelspec": {
   "display_name": "Python 3",
   "language": "python",
   "name": "python3"
  },
  "language_info": {
   "codemirror_mode": {
    "name": "ipython",
    "version": 3
   },
   "file_extension": ".py",
   "mimetype": "text/x-python",
   "name": "python",
   "nbconvert_exporter": "python",
   "pygments_lexer": "ipython3",
   "version": "3.7.3"
  }
 },
 "nbformat": 4,
 "nbformat_minor": 2
}
